{
 "cells": [
  {
   "cell_type": "markdown",
   "metadata": {},
   "source": [
    "# Data Cleaning"
   ]
  },
  {
   "cell_type": "markdown",
   "metadata": {},
   "source": [
    "### Cleaning the quotes"
   ]
  },
  {
   "cell_type": "markdown",
   "metadata": {},
   "source": [
    "Replace special quotes by normal ones and remove single quotes to prevent parsing errors."
   ]
  },
  {
   "cell_type": "code",
   "execution_count": 1,
   "metadata": {},
   "outputs": [],
   "source": [
    "from src.utils.clean_dataset import cleanup_dataset\n",
    "import pandas as pd\n",
    "import string"
   ]
  },
  {
   "cell_type": "code",
   "execution_count": 2,
   "metadata": {},
   "outputs": [],
   "source": [
    "cleanup_dataset(\"data/train.csv\", \"data/train_cleaned.csv\")"
   ]
  },
  {
   "cell_type": "code",
   "execution_count": 3,
   "metadata": {},
   "outputs": [],
   "source": [
    "cleanup_dataset(\"data/dev.csv\", \"data/dev_cleaned.csv\")"
   ]
  },
  {
   "cell_type": "markdown",
   "metadata": {},
   "source": [
    "### Cleaning the labels"
   ]
  },
  {
   "cell_type": "markdown",
   "metadata": {},
   "source": [
    "#### Train dataset"
   ]
  },
  {
   "cell_type": "code",
   "execution_count": 4,
   "metadata": {},
   "outputs": [],
   "source": [
    "train = pd.read_csv(\"data/train_cleaned.csv\", header=None, names=[\"image_name\", \"Image_URL\", \"OCR_extracted_text\", \"Corrected_text\", \"Humour\", \"Sarcasm\", \"Offense\", \"Motivation\", \"Overall_sentiment\", \"Basis_of_classification\"])"
   ]
  },
  {
   "cell_type": "code",
   "execution_count": 5,
   "metadata": {},
   "outputs": [],
   "source": [
    "def text_cleaning(row):\n",
    "    x = row[\"Corrected_text\"]\n",
    "    if not x or (type(x) == float and math.isnan(x)):\n",
    "        return None\n",
    "    cleaned = x.translate(str.maketrans('', '', string.punctuation))\n",
    "    cleaned = \" \".join(cleaned.lower().split())\n",
    "    return cleaned"
   ]
  },
  {
   "cell_type": "code",
   "execution_count": 6,
   "metadata": {},
   "outputs": [
    {
     "data": {
      "text/plain": [
       "array(['hilarious', 'not_funny', 'very_funny', 'funny'], dtype=object)"
      ]
     },
     "execution_count": 6,
     "metadata": {},
     "output_type": "execute_result"
    }
   ],
   "source": [
    "train.Humour.unique()"
   ]
  },
  {
   "cell_type": "code",
   "execution_count": 7,
   "metadata": {},
   "outputs": [
    {
     "data": {
      "text/plain": [
       "array(['general', 'not_sarcastic', 'twisted_meaning', 'very_twisted'],\n",
       "      dtype=object)"
      ]
     },
     "execution_count": 7,
     "metadata": {},
     "output_type": "execute_result"
    }
   ],
   "source": [
    "train.Sarcasm.unique()"
   ]
  },
  {
   "cell_type": "code",
   "execution_count": 8,
   "metadata": {},
   "outputs": [
    {
     "data": {
      "text/plain": [
       "array(['not_offensive', 'very_offensive', 'slight', 'hateful_offensive'],\n",
       "      dtype=object)"
      ]
     },
     "execution_count": 8,
     "metadata": {},
     "output_type": "execute_result"
    }
   ],
   "source": [
    "train.Offense.unique()"
   ]
  },
  {
   "cell_type": "code",
   "execution_count": 9,
   "metadata": {},
   "outputs": [
    {
     "data": {
      "text/plain": [
       "array(['not_motivational', 'motivational'], dtype=object)"
      ]
     },
     "execution_count": 9,
     "metadata": {},
     "output_type": "execute_result"
    }
   ],
   "source": [
    "train.Motivation.unique()"
   ]
  },
  {
   "cell_type": "code",
   "execution_count": 10,
   "metadata": {},
   "outputs": [
    {
     "data": {
      "text/plain": [
       "array(['very_positive', 'positive', 'neutral', 'negative',\n",
       "       'very_negative',\n",
       "       'positivechandler_Friday-Mood-AF.-meme-Friends-ChandlerBing.jpg'],\n",
       "      dtype=object)"
      ]
     },
     "execution_count": 10,
     "metadata": {},
     "output_type": "execute_result"
    }
   ],
   "source": [
    "train.Overall_sentiment.unique()"
   ]
  },
  {
   "cell_type": "code",
   "execution_count": 11,
   "metadata": {},
   "outputs": [
    {
     "data": {
      "text/html": [
       "<div>\n",
       "<style scoped>\n",
       "    .dataframe tbody tr th:only-of-type {\n",
       "        vertical-align: middle;\n",
       "    }\n",
       "\n",
       "    .dataframe tbody tr th {\n",
       "        vertical-align: top;\n",
       "    }\n",
       "\n",
       "    .dataframe thead th {\n",
       "        text-align: right;\n",
       "    }\n",
       "</style>\n",
       "<table border=\"1\" class=\"dataframe\">\n",
       "  <thead>\n",
       "    <tr style=\"text-align: right;\">\n",
       "      <th></th>\n",
       "      <th>image_name</th>\n",
       "      <th>Image_URL</th>\n",
       "      <th>OCR_extracted_text</th>\n",
       "      <th>Corrected_text</th>\n",
       "      <th>Humour</th>\n",
       "      <th>Sarcasm</th>\n",
       "      <th>Offense</th>\n",
       "      <th>Motivation</th>\n",
       "      <th>Overall_sentiment</th>\n",
       "      <th>Basis_of_classification</th>\n",
       "    </tr>\n",
       "  </thead>\n",
       "  <tbody>\n",
       "    <tr>\n",
       "      <th>726</th>\n",
       "      <td>chandler_f50efbd3af8d0a93a2ecdead0dc5044a.jpg</td>\n",
       "      <td>https://i.pinimg.com/originals/f5/0e/fb/f50efb...</td>\n",
       "      <td>Chandler Trolling on someone else's account BE...</td>\n",
       "      <td>Chandler Trolling on someone else's account BE...</td>\n",
       "      <td>funny</td>\n",
       "      <td>not_sarcastic</td>\n",
       "      <td>not_offensive</td>\n",
       "      <td>not_motivational</td>\n",
       "      <td>positivechandler_Friday-Mood-AF.-meme-Friends-...</td>\n",
       "      <td>NaN</td>\n",
       "    </tr>\n",
       "  </tbody>\n",
       "</table>\n",
       "</div>"
      ],
      "text/plain": [
       "                                        image_name  \\\n",
       "726  chandler_f50efbd3af8d0a93a2ecdead0dc5044a.jpg   \n",
       "\n",
       "                                             Image_URL  \\\n",
       "726  https://i.pinimg.com/originals/f5/0e/fb/f50efb...   \n",
       "\n",
       "                                    OCR_extracted_text  \\\n",
       "726  Chandler Trolling on someone else's account BE...   \n",
       "\n",
       "                                        Corrected_text Humour        Sarcasm  \\\n",
       "726  Chandler Trolling on someone else's account BE...  funny  not_sarcastic   \n",
       "\n",
       "           Offense        Motivation  \\\n",
       "726  not_offensive  not_motivational   \n",
       "\n",
       "                                     Overall_sentiment  \\\n",
       "726  positivechandler_Friday-Mood-AF.-meme-Friends-...   \n",
       "\n",
       "     Basis_of_classification  \n",
       "726                      NaN  "
      ]
     },
     "execution_count": 11,
     "metadata": {},
     "output_type": "execute_result"
    }
   ],
   "source": [
    "train.loc[train['Overall_sentiment'] == \"positivechandler_Friday-Mood-AF.-meme-Friends-ChandlerBing.jpg\"]"
   ]
  },
  {
   "cell_type": "code",
   "execution_count": 12,
   "metadata": {},
   "outputs": [],
   "source": [
    "train = train.replace(\"positivechandler_Friday-Mood-AF.-meme-Friends-ChandlerBing.jpg\", \"positive\")"
   ]
  },
  {
   "cell_type": "code",
   "execution_count": 13,
   "metadata": {},
   "outputs": [
    {
     "data": {
      "text/plain": [
       "array(['very_positive', 'positive', 'neutral', 'negative',\n",
       "       'very_negative'], dtype=object)"
      ]
     },
     "execution_count": 13,
     "metadata": {},
     "output_type": "execute_result"
    }
   ],
   "source": [
    "train.Overall_sentiment.unique()"
   ]
  },
  {
   "cell_type": "code",
   "execution_count": 14,
   "metadata": {},
   "outputs": [
    {
     "data": {
      "text/plain": [
       "array([nan])"
      ]
     },
     "execution_count": 14,
     "metadata": {},
     "output_type": "execute_result"
    }
   ],
   "source": [
    "train.Basis_of_classification.unique()"
   ]
  },
  {
   "cell_type": "markdown",
   "metadata": {},
   "source": [
    "#### Dev dataset"
   ]
  },
  {
   "cell_type": "code",
   "execution_count": 15,
   "metadata": {},
   "outputs": [],
   "source": [
    "dev = pd.read_csv(\"data/dev_cleaned.csv\", header=0, names=[\"image_name\", \"Image_URL\", \"OCR_extracted_text\", \"Corrected_text\", \"Humour\", \"Sarcasm\", \"Offense\", \"Motivation\", \"Overall_sentiment\", \"Basis_of_classification\"])"
   ]
  },
  {
   "cell_type": "code",
   "execution_count": 16,
   "metadata": {},
   "outputs": [
    {
     "data": {
      "text/plain": [
       "array(['very_funny', 'funny', 'not_funny', 'hilarious'], dtype=object)"
      ]
     },
     "execution_count": 16,
     "metadata": {},
     "output_type": "execute_result"
    }
   ],
   "source": [
    "dev.Humour.unique()"
   ]
  },
  {
   "cell_type": "code",
   "execution_count": 17,
   "metadata": {},
   "outputs": [
    {
     "data": {
      "text/plain": [
       "array(['general', 'not_sarcastic', 'twisted_meaning', 'very_twisted'],\n",
       "      dtype=object)"
      ]
     },
     "execution_count": 17,
     "metadata": {},
     "output_type": "execute_result"
    }
   ],
   "source": [
    "dev.Sarcasm.unique()"
   ]
  },
  {
   "cell_type": "code",
   "execution_count": 18,
   "metadata": {},
   "outputs": [
    {
     "data": {
      "text/plain": [
       "array(['hateful_offensive', 'not_offensive', 'slight', 'very_offensive'],\n",
       "      dtype=object)"
      ]
     },
     "execution_count": 18,
     "metadata": {},
     "output_type": "execute_result"
    }
   ],
   "source": [
    "dev.Offense.unique()"
   ]
  },
  {
   "cell_type": "code",
   "execution_count": 19,
   "metadata": {},
   "outputs": [
    {
     "data": {
      "text/plain": [
       "array(['not_motivational', 'motivational'], dtype=object)"
      ]
     },
     "execution_count": 19,
     "metadata": {},
     "output_type": "execute_result"
    }
   ],
   "source": [
    "dev.Motivation.unique()"
   ]
  },
  {
   "cell_type": "code",
   "execution_count": 20,
   "metadata": {},
   "outputs": [
    {
     "data": {
      "text/plain": [
       "array(['very_positive', 'negative', 'neutral', 'positive',\n",
       "       'very_negative'], dtype=object)"
      ]
     },
     "execution_count": 20,
     "metadata": {},
     "output_type": "execute_result"
    }
   ],
   "source": [
    "dev.Overall_sentiment.unique()"
   ]
  },
  {
   "cell_type": "code",
   "execution_count": 21,
   "metadata": {},
   "outputs": [
    {
     "data": {
      "text/plain": [
       "array(['image_and_text ', 'image', 'text', 'image_and_text  '],\n",
       "      dtype=object)"
      ]
     },
     "execution_count": 21,
     "metadata": {},
     "output_type": "execute_result"
    }
   ],
   "source": [
    "dev.Basis_of_classification.unique()"
   ]
  },
  {
   "cell_type": "markdown",
   "metadata": {},
   "source": [
    "### Checking missing values"
   ]
  },
  {
   "cell_type": "markdown",
   "metadata": {},
   "source": [
    "#### Train dataset"
   ]
  },
  {
   "cell_type": "code",
   "execution_count": 22,
   "metadata": {},
   "outputs": [
    {
     "data": {
      "text/html": [
       "<div>\n",
       "<style scoped>\n",
       "    .dataframe tbody tr th:only-of-type {\n",
       "        vertical-align: middle;\n",
       "    }\n",
       "\n",
       "    .dataframe tbody tr th {\n",
       "        vertical-align: top;\n",
       "    }\n",
       "\n",
       "    .dataframe thead th {\n",
       "        text-align: right;\n",
       "    }\n",
       "</style>\n",
       "<table border=\"1\" class=\"dataframe\">\n",
       "  <thead>\n",
       "    <tr style=\"text-align: right;\">\n",
       "      <th></th>\n",
       "      <th>image_name</th>\n",
       "      <th>Image_URL</th>\n",
       "      <th>Corrected_text</th>\n",
       "      <th>Humour</th>\n",
       "      <th>Sarcasm</th>\n",
       "      <th>Offense</th>\n",
       "      <th>Motivation</th>\n",
       "      <th>Overall_sentiment</th>\n",
       "    </tr>\n",
       "  </thead>\n",
       "  <tbody>\n",
       "    <tr>\n",
       "      <th>4214</th>\n",
       "      <td>trump_1ciwua.jpg</td>\n",
       "      <td>https://i.imgflip.com/1ciwua.jpg</td>\n",
       "      <td>NaN</td>\n",
       "      <td>very_funny</td>\n",
       "      <td>general</td>\n",
       "      <td>slight</td>\n",
       "      <td>motivational</td>\n",
       "      <td>positive</td>\n",
       "    </tr>\n",
       "    <tr>\n",
       "      <th>4230</th>\n",
       "      <td>trump_85486890.jpg</td>\n",
       "      <td>https://cdn.ebaumsworld.com/mediaFiles/picture...</td>\n",
       "      <td>NaN</td>\n",
       "      <td>very_funny</td>\n",
       "      <td>general</td>\n",
       "      <td>slight</td>\n",
       "      <td>not_motivational</td>\n",
       "      <td>neutral</td>\n",
       "    </tr>\n",
       "    <tr>\n",
       "      <th>4231</th>\n",
       "      <td>trump_1486350110-meme-5.png</td>\n",
       "      <td>https://sportsdaydfw.imgix.net/1486350110-meme...</td>\n",
       "      <td>NaN</td>\n",
       "      <td>funny</td>\n",
       "      <td>twisted_meaning</td>\n",
       "      <td>very_offensive</td>\n",
       "      <td>motivational</td>\n",
       "      <td>negative</td>\n",
       "    </tr>\n",
       "    <tr>\n",
       "      <th>4261</th>\n",
       "      <td>trump_qeqrech7dx3z.jpg</td>\n",
       "      <td>https://i.redd.it/qeqrech7dx3z.jpg</td>\n",
       "      <td>NaN</td>\n",
       "      <td>not_funny</td>\n",
       "      <td>general</td>\n",
       "      <td>slight</td>\n",
       "      <td>motivational</td>\n",
       "      <td>very_positive</td>\n",
       "    </tr>\n",
       "    <tr>\n",
       "      <th>4807</th>\n",
       "      <td>trump_d88.jpg</td>\n",
       "      <td>https://i.kym-cdn.com/photos/images/facebook/0...</td>\n",
       "      <td>NaN</td>\n",
       "      <td>very_funny</td>\n",
       "      <td>general</td>\n",
       "      <td>slight</td>\n",
       "      <td>motivational</td>\n",
       "      <td>neutral</td>\n",
       "    </tr>\n",
       "    <tr>\n",
       "      <th>5285</th>\n",
       "      <td>minion_itm-about-as-ok-with-libs-fuckin-minion...</td>\n",
       "      <td>https://pics.conservativememes.com/itm-about-a...</td>\n",
       "      <td>NaN</td>\n",
       "      <td>very_funny</td>\n",
       "      <td>general</td>\n",
       "      <td>slight</td>\n",
       "      <td>motivational</td>\n",
       "      <td>neutral</td>\n",
       "    </tr>\n",
       "    <tr>\n",
       "      <th>6789</th>\n",
       "      <td>trump_1485530548-donald-trump-and-hillary-clin...</td>\n",
       "      <td>https://im.indiatimes.in/content/itimes/photo/...</td>\n",
       "      <td>NaN</td>\n",
       "      <td>very_funny</td>\n",
       "      <td>twisted_meaning</td>\n",
       "      <td>not_offensive</td>\n",
       "      <td>not_motivational</td>\n",
       "      <td>positive</td>\n",
       "    </tr>\n",
       "    <tr>\n",
       "      <th>6792</th>\n",
       "      <td>trump_amusing-memes.jpg</td>\n",
       "      <td>http://worldwideinterweb.com/wp-content/upload...</td>\n",
       "      <td>NaN</td>\n",
       "      <td>hilarious</td>\n",
       "      <td>general</td>\n",
       "      <td>not_offensive</td>\n",
       "      <td>not_motivational</td>\n",
       "      <td>positive</td>\n",
       "    </tr>\n",
       "    <tr>\n",
       "      <th>6794</th>\n",
       "      <td>trump_clinton-vs-trump-memes.jpg</td>\n",
       "      <td>http://worldwideinterweb.com/wp-content/upload...</td>\n",
       "      <td>NaN</td>\n",
       "      <td>not_funny</td>\n",
       "      <td>not_sarcastic</td>\n",
       "      <td>very_offensive</td>\n",
       "      <td>motivational</td>\n",
       "      <td>positive</td>\n",
       "    </tr>\n",
       "  </tbody>\n",
       "</table>\n",
       "</div>"
      ],
      "text/plain": [
       "                                             image_name  \\\n",
       "4214                                   trump_1ciwua.jpg   \n",
       "4230                                 trump_85486890.jpg   \n",
       "4231                        trump_1486350110-meme-5.png   \n",
       "4261                             trump_qeqrech7dx3z.jpg   \n",
       "4807                                      trump_d88.jpg   \n",
       "5285  minion_itm-about-as-ok-with-libs-fuckin-minion...   \n",
       "6789  trump_1485530548-donald-trump-and-hillary-clin...   \n",
       "6792                            trump_amusing-memes.jpg   \n",
       "6794                   trump_clinton-vs-trump-memes.jpg   \n",
       "\n",
       "                                              Image_URL Corrected_text  \\\n",
       "4214                   https://i.imgflip.com/1ciwua.jpg            NaN   \n",
       "4230  https://cdn.ebaumsworld.com/mediaFiles/picture...            NaN   \n",
       "4231  https://sportsdaydfw.imgix.net/1486350110-meme...            NaN   \n",
       "4261                 https://i.redd.it/qeqrech7dx3z.jpg            NaN   \n",
       "4807  https://i.kym-cdn.com/photos/images/facebook/0...            NaN   \n",
       "5285  https://pics.conservativememes.com/itm-about-a...            NaN   \n",
       "6789  https://im.indiatimes.in/content/itimes/photo/...            NaN   \n",
       "6792  http://worldwideinterweb.com/wp-content/upload...            NaN   \n",
       "6794  http://worldwideinterweb.com/wp-content/upload...            NaN   \n",
       "\n",
       "          Humour          Sarcasm         Offense        Motivation  \\\n",
       "4214  very_funny          general          slight      motivational   \n",
       "4230  very_funny          general          slight  not_motivational   \n",
       "4231       funny  twisted_meaning  very_offensive      motivational   \n",
       "4261   not_funny          general          slight      motivational   \n",
       "4807  very_funny          general          slight      motivational   \n",
       "5285  very_funny          general          slight      motivational   \n",
       "6789  very_funny  twisted_meaning   not_offensive  not_motivational   \n",
       "6792   hilarious          general   not_offensive  not_motivational   \n",
       "6794   not_funny    not_sarcastic  very_offensive      motivational   \n",
       "\n",
       "     Overall_sentiment  \n",
       "4214          positive  \n",
       "4230           neutral  \n",
       "4231          negative  \n",
       "4261     very_positive  \n",
       "4807           neutral  \n",
       "5285           neutral  \n",
       "6789          positive  \n",
       "6792          positive  \n",
       "6794          positive  "
      ]
     },
     "execution_count": 22,
     "metadata": {},
     "output_type": "execute_result"
    }
   ],
   "source": [
    "to_check = train.drop([\"Basis_of_classification\", \"OCR_extracted_text\"], axis=1)\n",
    "to_check[to_check.isnull().any(axis=1)]"
   ]
  },
  {
   "cell_type": "code",
   "execution_count": 23,
   "metadata": {},
   "outputs": [
    {
     "data": {
      "text/html": [
       "<div>\n",
       "<style scoped>\n",
       "    .dataframe tbody tr th:only-of-type {\n",
       "        vertical-align: middle;\n",
       "    }\n",
       "\n",
       "    .dataframe tbody tr th {\n",
       "        vertical-align: top;\n",
       "    }\n",
       "\n",
       "    .dataframe thead th {\n",
       "        text-align: right;\n",
       "    }\n",
       "</style>\n",
       "<table border=\"1\" class=\"dataframe\">\n",
       "  <thead>\n",
       "    <tr style=\"text-align: right;\">\n",
       "      <th></th>\n",
       "      <th>image_name</th>\n",
       "      <th>Image_URL</th>\n",
       "      <th>OCR_extracted_text</th>\n",
       "      <th>Corrected_text</th>\n",
       "      <th>Humour</th>\n",
       "      <th>Sarcasm</th>\n",
       "      <th>Offense</th>\n",
       "      <th>Motivation</th>\n",
       "      <th>Overall_sentiment</th>\n",
       "      <th>Basis_of_classification</th>\n",
       "    </tr>\n",
       "  </thead>\n",
       "  <tbody>\n",
       "    <tr>\n",
       "      <th>4214</th>\n",
       "      <td>trump_1ciwua.jpg</td>\n",
       "      <td>https://i.imgflip.com/1ciwua.jpg</td>\n",
       "      <td>NaN</td>\n",
       "      <td>NaN</td>\n",
       "      <td>very_funny</td>\n",
       "      <td>general</td>\n",
       "      <td>slight</td>\n",
       "      <td>motivational</td>\n",
       "      <td>positive</td>\n",
       "      <td>NaN</td>\n",
       "    </tr>\n",
       "    <tr>\n",
       "      <th>4230</th>\n",
       "      <td>trump_85486890.jpg</td>\n",
       "      <td>https://cdn.ebaumsworld.com/mediaFiles/picture...</td>\n",
       "      <td>NaN</td>\n",
       "      <td>NaN</td>\n",
       "      <td>very_funny</td>\n",
       "      <td>general</td>\n",
       "      <td>slight</td>\n",
       "      <td>not_motivational</td>\n",
       "      <td>neutral</td>\n",
       "      <td>NaN</td>\n",
       "    </tr>\n",
       "    <tr>\n",
       "      <th>4231</th>\n",
       "      <td>trump_1486350110-meme-5.png</td>\n",
       "      <td>https://sportsdaydfw.imgix.net/1486350110-meme...</td>\n",
       "      <td>NaN</td>\n",
       "      <td>NaN</td>\n",
       "      <td>funny</td>\n",
       "      <td>twisted_meaning</td>\n",
       "      <td>very_offensive</td>\n",
       "      <td>motivational</td>\n",
       "      <td>negative</td>\n",
       "      <td>NaN</td>\n",
       "    </tr>\n",
       "    <tr>\n",
       "      <th>4261</th>\n",
       "      <td>trump_qeqrech7dx3z.jpg</td>\n",
       "      <td>https://i.redd.it/qeqrech7dx3z.jpg</td>\n",
       "      <td>NaN</td>\n",
       "      <td>NaN</td>\n",
       "      <td>not_funny</td>\n",
       "      <td>general</td>\n",
       "      <td>slight</td>\n",
       "      <td>motivational</td>\n",
       "      <td>very_positive</td>\n",
       "      <td>NaN</td>\n",
       "    </tr>\n",
       "    <tr>\n",
       "      <th>4807</th>\n",
       "      <td>trump_d88.jpg</td>\n",
       "      <td>https://i.kym-cdn.com/photos/images/facebook/0...</td>\n",
       "      <td>NaN</td>\n",
       "      <td>NaN</td>\n",
       "      <td>very_funny</td>\n",
       "      <td>general</td>\n",
       "      <td>slight</td>\n",
       "      <td>motivational</td>\n",
       "      <td>neutral</td>\n",
       "      <td>NaN</td>\n",
       "    </tr>\n",
       "    <tr>\n",
       "      <th>5285</th>\n",
       "      <td>minion_itm-about-as-ok-with-libs-fuckin-minion...</td>\n",
       "      <td>https://pics.conservativememes.com/itm-about-a...</td>\n",
       "      <td>NaN</td>\n",
       "      <td>NaN</td>\n",
       "      <td>very_funny</td>\n",
       "      <td>general</td>\n",
       "      <td>slight</td>\n",
       "      <td>motivational</td>\n",
       "      <td>neutral</td>\n",
       "      <td>NaN</td>\n",
       "    </tr>\n",
       "    <tr>\n",
       "      <th>6789</th>\n",
       "      <td>trump_1485530548-donald-trump-and-hillary-clin...</td>\n",
       "      <td>https://im.indiatimes.in/content/itimes/photo/...</td>\n",
       "      <td>NaN</td>\n",
       "      <td>NaN</td>\n",
       "      <td>very_funny</td>\n",
       "      <td>twisted_meaning</td>\n",
       "      <td>not_offensive</td>\n",
       "      <td>not_motivational</td>\n",
       "      <td>positive</td>\n",
       "      <td>NaN</td>\n",
       "    </tr>\n",
       "    <tr>\n",
       "      <th>6792</th>\n",
       "      <td>trump_amusing-memes.jpg</td>\n",
       "      <td>http://worldwideinterweb.com/wp-content/upload...</td>\n",
       "      <td>NaN</td>\n",
       "      <td>NaN</td>\n",
       "      <td>hilarious</td>\n",
       "      <td>general</td>\n",
       "      <td>not_offensive</td>\n",
       "      <td>not_motivational</td>\n",
       "      <td>positive</td>\n",
       "      <td>NaN</td>\n",
       "    </tr>\n",
       "    <tr>\n",
       "      <th>6794</th>\n",
       "      <td>trump_clinton-vs-trump-memes.jpg</td>\n",
       "      <td>http://worldwideinterweb.com/wp-content/upload...</td>\n",
       "      <td>NaN</td>\n",
       "      <td>NaN</td>\n",
       "      <td>not_funny</td>\n",
       "      <td>not_sarcastic</td>\n",
       "      <td>very_offensive</td>\n",
       "      <td>motivational</td>\n",
       "      <td>positive</td>\n",
       "      <td>NaN</td>\n",
       "    </tr>\n",
       "  </tbody>\n",
       "</table>\n",
       "</div>"
      ],
      "text/plain": [
       "                                             image_name  \\\n",
       "4214                                   trump_1ciwua.jpg   \n",
       "4230                                 trump_85486890.jpg   \n",
       "4231                        trump_1486350110-meme-5.png   \n",
       "4261                             trump_qeqrech7dx3z.jpg   \n",
       "4807                                      trump_d88.jpg   \n",
       "5285  minion_itm-about-as-ok-with-libs-fuckin-minion...   \n",
       "6789  trump_1485530548-donald-trump-and-hillary-clin...   \n",
       "6792                            trump_amusing-memes.jpg   \n",
       "6794                   trump_clinton-vs-trump-memes.jpg   \n",
       "\n",
       "                                              Image_URL OCR_extracted_text  \\\n",
       "4214                   https://i.imgflip.com/1ciwua.jpg                NaN   \n",
       "4230  https://cdn.ebaumsworld.com/mediaFiles/picture...                NaN   \n",
       "4231  https://sportsdaydfw.imgix.net/1486350110-meme...                NaN   \n",
       "4261                 https://i.redd.it/qeqrech7dx3z.jpg                NaN   \n",
       "4807  https://i.kym-cdn.com/photos/images/facebook/0...                NaN   \n",
       "5285  https://pics.conservativememes.com/itm-about-a...                NaN   \n",
       "6789  https://im.indiatimes.in/content/itimes/photo/...                NaN   \n",
       "6792  http://worldwideinterweb.com/wp-content/upload...                NaN   \n",
       "6794  http://worldwideinterweb.com/wp-content/upload...                NaN   \n",
       "\n",
       "     Corrected_text      Humour          Sarcasm         Offense  \\\n",
       "4214            NaN  very_funny          general          slight   \n",
       "4230            NaN  very_funny          general          slight   \n",
       "4231            NaN       funny  twisted_meaning  very_offensive   \n",
       "4261            NaN   not_funny          general          slight   \n",
       "4807            NaN  very_funny          general          slight   \n",
       "5285            NaN  very_funny          general          slight   \n",
       "6789            NaN  very_funny  twisted_meaning   not_offensive   \n",
       "6792            NaN   hilarious          general   not_offensive   \n",
       "6794            NaN   not_funny    not_sarcastic  very_offensive   \n",
       "\n",
       "            Motivation Overall_sentiment  Basis_of_classification  \n",
       "4214      motivational          positive                      NaN  \n",
       "4230  not_motivational           neutral                      NaN  \n",
       "4231      motivational          negative                      NaN  \n",
       "4261      motivational     very_positive                      NaN  \n",
       "4807      motivational           neutral                      NaN  \n",
       "5285      motivational           neutral                      NaN  \n",
       "6789  not_motivational          positive                      NaN  \n",
       "6792  not_motivational          positive                      NaN  \n",
       "6794      motivational          positive                      NaN  "
      ]
     },
     "execution_count": 23,
     "metadata": {},
     "output_type": "execute_result"
    }
   ],
   "source": [
    "train[train[\"Corrected_text\"].isnull()]"
   ]
  },
  {
   "cell_type": "code",
   "execution_count": 24,
   "metadata": {},
   "outputs": [],
   "source": [
    "train.loc[[4214, 4230, 4231, 4261, 4807, 5285, 6789, 6792, 6794],\"Corrected_text\"] = [\n",
    "    \"It's rigged ! it's rigged ! it's a left wing-- no, a right wing-- no, a media conspiracy\", \n",
    "    \"Stage #1 - Action complete Stage #2 make it stick!\", \n",
    "    \"Breaking: Trump signs executive order giving Tom Brady and the new england patriots 41 points\", \n",
    "    \"When you login to your neighbors router using 1234\", \n",
    "    \"I'm gonna build some fancy walls even though I have millions of extra dollars in gonna make the mexicans pay for it\", \n",
    "    \"I'm about as OK with libs burnin' the flag as I am with how much it burns when I piss Fukin minion memes. ~L.\", \n",
    "    \"If Donald and Hillary are together on a boat in the middle of the ocean and it sinks. who survives ? AMERICA\",\n",
    "    \"Bruh why this tub of margarine look like Donald Trump ?\", \n",
    "    \"2016 election Trump vs Hillary still a better love story than Twilight\", \n",
    "]"
   ]
  },
  {
   "cell_type": "code",
   "execution_count": 25,
   "metadata": {},
   "outputs": [],
   "source": [
    "train.to_csv(\"data/train_cleaned_missing.csv\", index=False)"
   ]
  },
  {
   "cell_type": "markdown",
   "metadata": {},
   "source": [
    "#### Dev dataset"
   ]
  },
  {
   "cell_type": "code",
   "execution_count": 26,
   "metadata": {},
   "outputs": [],
   "source": [
    "def replace_missing_text(x):\n",
    "    if x[\"Corrected_text\"] == ' ':\n",
    "        return x[\"OCR_extracted_text\"]\n",
    "    return x[\"Corrected_text\"]"
   ]
  },
  {
   "cell_type": "code",
   "execution_count": 27,
   "metadata": {},
   "outputs": [],
   "source": [
    "dev[\"Corrected_text\"] = dev.apply(lambda x: replace_missing_text(x), axis=1)"
   ]
  },
  {
   "cell_type": "code",
   "execution_count": 28,
   "metadata": {},
   "outputs": [
    {
     "data": {
      "text/html": [
       "<div>\n",
       "<style scoped>\n",
       "    .dataframe tbody tr th:only-of-type {\n",
       "        vertical-align: middle;\n",
       "    }\n",
       "\n",
       "    .dataframe tbody tr th {\n",
       "        vertical-align: top;\n",
       "    }\n",
       "\n",
       "    .dataframe thead th {\n",
       "        text-align: right;\n",
       "    }\n",
       "</style>\n",
       "<table border=\"1\" class=\"dataframe\">\n",
       "  <thead>\n",
       "    <tr style=\"text-align: right;\">\n",
       "      <th></th>\n",
       "      <th>image_name</th>\n",
       "      <th>Image_URL</th>\n",
       "      <th>Corrected_text</th>\n",
       "      <th>Humour</th>\n",
       "      <th>Sarcasm</th>\n",
       "      <th>Offense</th>\n",
       "      <th>Motivation</th>\n",
       "      <th>Overall_sentiment</th>\n",
       "    </tr>\n",
       "  </thead>\n",
       "  <tbody>\n",
       "  </tbody>\n",
       "</table>\n",
       "</div>"
      ],
      "text/plain": [
       "Empty DataFrame\n",
       "Columns: [image_name, Image_URL, Corrected_text, Humour, Sarcasm, Offense, Motivation, Overall_sentiment]\n",
       "Index: []"
      ]
     },
     "execution_count": 28,
     "metadata": {},
     "output_type": "execute_result"
    }
   ],
   "source": [
    "to_check = dev.drop([\"Basis_of_classification\", \"OCR_extracted_text\"], axis=1)\n",
    "to_check[to_check.isnull().any(axis=1)]"
   ]
  },
  {
   "cell_type": "markdown",
   "metadata": {},
   "source": [
    "### Check for duplicates"
   ]
  },
  {
   "cell_type": "markdown",
   "metadata": {},
   "source": [
    "#### Train dataset"
   ]
  },
  {
   "cell_type": "code",
   "execution_count": 29,
   "metadata": {},
   "outputs": [
    {
     "data": {
      "text/html": [
       "<div>\n",
       "<style scoped>\n",
       "    .dataframe tbody tr th:only-of-type {\n",
       "        vertical-align: middle;\n",
       "    }\n",
       "\n",
       "    .dataframe tbody tr th {\n",
       "        vertical-align: top;\n",
       "    }\n",
       "\n",
       "    .dataframe thead th {\n",
       "        text-align: right;\n",
       "    }\n",
       "</style>\n",
       "<table border=\"1\" class=\"dataframe\">\n",
       "  <thead>\n",
       "    <tr style=\"text-align: right;\">\n",
       "      <th></th>\n",
       "      <th>image_name</th>\n",
       "      <th>Image_URL</th>\n",
       "      <th>OCR_extracted_text</th>\n",
       "      <th>Corrected_text</th>\n",
       "      <th>Humour</th>\n",
       "      <th>Sarcasm</th>\n",
       "      <th>Offense</th>\n",
       "      <th>Motivation</th>\n",
       "      <th>Overall_sentiment</th>\n",
       "      <th>Basis_of_classification</th>\n",
       "    </tr>\n",
       "  </thead>\n",
       "  <tbody>\n",
       "    <tr>\n",
       "      <th>1971</th>\n",
       "      <td>hillary_c3fd01300e5bee2ba12a45ee2f160ed11b8926...</td>\n",
       "      <td>http://www.quickmeme.com/img/c3/c3fd01300e5bee...</td>\n",
       "      <td>WANTS TO BAN VIOLENT VIDEO GAMES DOESN'T TRY T...</td>\n",
       "      <td>WANTS TO BAN VIOLENT VIDEO GAMES DOESN'T TRY T...</td>\n",
       "      <td>very_funny</td>\n",
       "      <td>general</td>\n",
       "      <td>slight</td>\n",
       "      <td>motivational</td>\n",
       "      <td>positive</td>\n",
       "      <td>NaN</td>\n",
       "    </tr>\n",
       "  </tbody>\n",
       "</table>\n",
       "</div>"
      ],
      "text/plain": [
       "                                             image_name  \\\n",
       "1971  hillary_c3fd01300e5bee2ba12a45ee2f160ed11b8926...   \n",
       "\n",
       "                                              Image_URL  \\\n",
       "1971  http://www.quickmeme.com/img/c3/c3fd01300e5bee...   \n",
       "\n",
       "                                     OCR_extracted_text  \\\n",
       "1971  WANTS TO BAN VIOLENT VIDEO GAMES DOESN'T TRY T...   \n",
       "\n",
       "                                         Corrected_text      Humour  Sarcasm  \\\n",
       "1971  WANTS TO BAN VIOLENT VIDEO GAMES DOESN'T TRY T...  very_funny  general   \n",
       "\n",
       "     Offense    Motivation Overall_sentiment  Basis_of_classification  \n",
       "1971  slight  motivational          positive                      NaN  "
      ]
     },
     "execution_count": 29,
     "metadata": {},
     "output_type": "execute_result"
    }
   ],
   "source": [
    "train[train.duplicated()]"
   ]
  },
  {
   "cell_type": "code",
   "execution_count": 30,
   "metadata": {},
   "outputs": [],
   "source": [
    "train.drop_duplicates(keep=\"first\",inplace=True)"
   ]
  },
  {
   "cell_type": "code",
   "execution_count": 31,
   "metadata": {},
   "outputs": [],
   "source": [
    "train.to_csv(\"data/train_cleaned_final.csv\", index=False)"
   ]
  },
  {
   "cell_type": "markdown",
   "metadata": {},
   "source": [
    "#### Dev dataset"
   ]
  },
  {
   "cell_type": "code",
   "execution_count": 32,
   "metadata": {},
   "outputs": [
    {
     "data": {
      "text/html": [
       "<div>\n",
       "<style scoped>\n",
       "    .dataframe tbody tr th:only-of-type {\n",
       "        vertical-align: middle;\n",
       "    }\n",
       "\n",
       "    .dataframe tbody tr th {\n",
       "        vertical-align: top;\n",
       "    }\n",
       "\n",
       "    .dataframe thead th {\n",
       "        text-align: right;\n",
       "    }\n",
       "</style>\n",
       "<table border=\"1\" class=\"dataframe\">\n",
       "  <thead>\n",
       "    <tr style=\"text-align: right;\">\n",
       "      <th></th>\n",
       "      <th>image_name</th>\n",
       "      <th>Image_URL</th>\n",
       "      <th>OCR_extracted_text</th>\n",
       "      <th>Corrected_text</th>\n",
       "      <th>Humour</th>\n",
       "      <th>Sarcasm</th>\n",
       "      <th>Offense</th>\n",
       "      <th>Motivation</th>\n",
       "      <th>Overall_sentiment</th>\n",
       "      <th>Basis_of_classification</th>\n",
       "    </tr>\n",
       "  </thead>\n",
       "  <tbody>\n",
       "  </tbody>\n",
       "</table>\n",
       "</div>"
      ],
      "text/plain": [
       "Empty DataFrame\n",
       "Columns: [image_name, Image_URL, OCR_extracted_text, Corrected_text, Humour, Sarcasm, Offense, Motivation, Overall_sentiment, Basis_of_classification]\n",
       "Index: []"
      ]
     },
     "execution_count": 32,
     "metadata": {},
     "output_type": "execute_result"
    }
   ],
   "source": [
    "dev[dev.duplicated()]"
   ]
  },
  {
   "cell_type": "code",
   "execution_count": 33,
   "metadata": {},
   "outputs": [],
   "source": [
    "dev.to_csv(\"data/dev_cleaned_final.csv\", index=False)"
   ]
  },
  {
   "cell_type": "code",
   "execution_count": null,
   "metadata": {},
   "outputs": [],
   "source": []
  }
 ],
 "metadata": {
  "kernelspec": {
   "display_name": "Python 3",
   "language": "python",
   "name": "python3"
  },
  "language_info": {
   "codemirror_mode": {
    "name": "ipython",
    "version": 3
   },
   "file_extension": ".py",
   "mimetype": "text/x-python",
   "name": "python",
   "nbconvert_exporter": "python",
   "pygments_lexer": "ipython3",
   "version": "3.6.8"
  }
 },
 "nbformat": 4,
 "nbformat_minor": 2
}
