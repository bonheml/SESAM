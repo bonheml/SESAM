{
 "cells": [
  {
   "cell_type": "markdown",
   "metadata": {},
   "source": [
    "# Data Cleaning"
   ]
  },
  {
   "cell_type": "markdown",
   "metadata": {},
   "source": [
    "### Cleaning the quotes"
   ]
  },
  {
   "cell_type": "markdown",
   "metadata": {},
   "source": [
    "Replace special quotes by normal ones and remove single quotes to prevent parsing errors."
   ]
  },
  {
   "cell_type": "code",
   "execution_count": 1,
   "metadata": {},
   "outputs": [],
   "source": [
    "from src.data_analysis.clean_dataset import cleanup_dataset\n",
    "import pandas as pd\n",
    "import string"
   ]
  },
  {
   "cell_type": "code",
   "execution_count": 2,
   "metadata": {},
   "outputs": [],
   "source": [
    "data_folder = \"../../data/\""
   ]
  },
  {
   "cell_type": "code",
   "execution_count": 3,
   "metadata": {},
   "outputs": [],
   "source": [
    "cleanup_dataset(\"{}train.csv\".format(data_folder), \"{}train_cleaned.csv\".format(data_folder))"
   ]
  },
  {
   "cell_type": "code",
   "execution_count": 4,
   "metadata": {},
   "outputs": [],
   "source": [
    "cleanup_dataset(\"{}dev.csv\".format(data_folder), \"{}dev_cleaned.csv\".format(data_folder))"
   ]
  },
  {
   "cell_type": "code",
   "execution_count": 3,
   "metadata": {},
   "outputs": [],
   "source": [
    "cleanup_dataset(\"{}test.csv\".format(data_folder), \"{}test_cleaned.csv\".format(data_folder))"
   ]
  },
  {
   "cell_type": "markdown",
   "metadata": {},
   "source": [
    "### Cleaning the labels"
   ]
  },
  {
   "cell_type": "markdown",
   "metadata": {},
   "source": [
    "#### Train dataset"
   ]
  },
  {
   "cell_type": "code",
   "execution_count": 6,
   "metadata": {},
   "outputs": [],
   "source": [
    "train = pd.read_csv(\"{}train_cleaned.csv\".format(data_folder),\n",
    "                    header=None, \n",
    "                    names=[\"image_name\", \"Image_URL\", \"OCR_extracted_text\", \"Corrected_text\", \"Humour\", \"Sarcasm\", \"Offense\", \"Motivation\", \"Overall_sentiment\", \"Basis_of_classification\"])"
   ]
  },
  {
   "cell_type": "code",
   "execution_count": 16,
   "metadata": {},
   "outputs": [],
   "source": [
    "def text_cleaning(row):\n",
    "    x = row[\"Corrected_text\"]\n",
    "    if not x or (type(x) == float and math.isnan(x)):\n",
    "        return None\n",
    "    cleaned = x.translate(str.maketrans('', '', string.punctuation))\n",
    "    cleaned = \" \".join(cleaned.lower().split())\n",
    "    return cleaned"
   ]
  },
  {
   "cell_type": "code",
   "execution_count": 8,
   "metadata": {},
   "outputs": [
    {
     "data": {
      "text/plain": [
       "array(['hilarious', 'not_funny', 'very_funny', 'funny'], dtype=object)"
      ]
     },
     "execution_count": 8,
     "metadata": {},
     "output_type": "execute_result"
    }
   ],
   "source": [
    "train.Humour.unique()"
   ]
  },
  {
   "cell_type": "code",
   "execution_count": 9,
   "metadata": {},
   "outputs": [
    {
     "data": {
      "text/plain": [
       "array(['general', 'not_sarcastic', 'twisted_meaning', 'very_twisted'],\n",
       "      dtype=object)"
      ]
     },
     "execution_count": 9,
     "metadata": {},
     "output_type": "execute_result"
    }
   ],
   "source": [
    "train.Sarcasm.unique()"
   ]
  },
  {
   "cell_type": "code",
   "execution_count": 10,
   "metadata": {},
   "outputs": [
    {
     "data": {
      "text/plain": [
       "array(['not_offensive', 'very_offensive', 'slight', 'hateful_offensive'],\n",
       "      dtype=object)"
      ]
     },
     "execution_count": 10,
     "metadata": {},
     "output_type": "execute_result"
    }
   ],
   "source": [
    "train.Offense.unique()"
   ]
  },
  {
   "cell_type": "code",
   "execution_count": 11,
   "metadata": {},
   "outputs": [
    {
     "data": {
      "text/plain": [
       "array(['not_motivational', 'motivational'], dtype=object)"
      ]
     },
     "execution_count": 11,
     "metadata": {},
     "output_type": "execute_result"
    }
   ],
   "source": [
    "train.Motivation.unique()"
   ]
  },
  {
   "cell_type": "code",
   "execution_count": 12,
   "metadata": {},
   "outputs": [
    {
     "data": {
      "text/plain": [
       "array(['very_positive', 'positive', 'neutral', 'negative',\n",
       "       'very_negative',\n",
       "       'positivechandler_Friday-Mood-AF.-meme-Friends-ChandlerBing.jpg'],\n",
       "      dtype=object)"
      ]
     },
     "execution_count": 12,
     "metadata": {},
     "output_type": "execute_result"
    }
   ],
   "source": [
    "train.Overall_sentiment.unique()"
   ]
  },
  {
   "cell_type": "code",
   "execution_count": 13,
   "metadata": {},
   "outputs": [
    {
     "data": {
      "text/html": [
       "<div>\n",
       "<style scoped>\n",
       "    .dataframe tbody tr th:only-of-type {\n",
       "        vertical-align: middle;\n",
       "    }\n",
       "\n",
       "    .dataframe tbody tr th {\n",
       "        vertical-align: top;\n",
       "    }\n",
       "\n",
       "    .dataframe thead th {\n",
       "        text-align: right;\n",
       "    }\n",
       "</style>\n",
       "<table border=\"1\" class=\"dataframe\">\n",
       "  <thead>\n",
       "    <tr style=\"text-align: right;\">\n",
       "      <th></th>\n",
       "      <th>image_name</th>\n",
       "      <th>Image_URL</th>\n",
       "      <th>OCR_extracted_text</th>\n",
       "      <th>Corrected_text</th>\n",
       "      <th>Humour</th>\n",
       "      <th>Sarcasm</th>\n",
       "      <th>Offense</th>\n",
       "      <th>Motivation</th>\n",
       "      <th>Overall_sentiment</th>\n",
       "      <th>Basis_of_classification</th>\n",
       "    </tr>\n",
       "  </thead>\n",
       "  <tbody>\n",
       "    <tr>\n",
       "      <th>726</th>\n",
       "      <td>chandler_f50efbd3af8d0a93a2ecdead0dc5044a.jpg</td>\n",
       "      <td>https://i.pinimg.com/originals/f5/0e/fb/f50efb...</td>\n",
       "      <td>Chandler Trolling on someone else's account BE...</td>\n",
       "      <td>Chandler Trolling on someone else's account BE...</td>\n",
       "      <td>funny</td>\n",
       "      <td>not_sarcastic</td>\n",
       "      <td>not_offensive</td>\n",
       "      <td>not_motivational</td>\n",
       "      <td>positivechandler_Friday-Mood-AF.-meme-Friends-...</td>\n",
       "      <td>NaN</td>\n",
       "    </tr>\n",
       "  </tbody>\n",
       "</table>\n",
       "</div>"
      ],
      "text/plain": [
       "                                        image_name  \\\n",
       "726  chandler_f50efbd3af8d0a93a2ecdead0dc5044a.jpg   \n",
       "\n",
       "                                             Image_URL  \\\n",
       "726  https://i.pinimg.com/originals/f5/0e/fb/f50efb...   \n",
       "\n",
       "                                    OCR_extracted_text  \\\n",
       "726  Chandler Trolling on someone else's account BE...   \n",
       "\n",
       "                                        Corrected_text Humour        Sarcasm  \\\n",
       "726  Chandler Trolling on someone else's account BE...  funny  not_sarcastic   \n",
       "\n",
       "           Offense        Motivation  \\\n",
       "726  not_offensive  not_motivational   \n",
       "\n",
       "                                     Overall_sentiment  \\\n",
       "726  positivechandler_Friday-Mood-AF.-meme-Friends-...   \n",
       "\n",
       "     Basis_of_classification  \n",
       "726                      NaN  "
      ]
     },
     "execution_count": 13,
     "metadata": {},
     "output_type": "execute_result"
    }
   ],
   "source": [
    "train.loc[train['Overall_sentiment'] == \"positivechandler_Friday-Mood-AF.-meme-Friends-ChandlerBing.jpg\"]"
   ]
  },
  {
   "cell_type": "code",
   "execution_count": 14,
   "metadata": {},
   "outputs": [],
   "source": [
    "train = train.replace(\"positivechandler_Friday-Mood-AF.-meme-Friends-ChandlerBing.jpg\", \"positive\")"
   ]
  },
  {
   "cell_type": "code",
   "execution_count": 15,
   "metadata": {},
   "outputs": [
    {
     "data": {
      "text/plain": [
       "array(['very_positive', 'positive', 'neutral', 'negative',\n",
       "       'very_negative'], dtype=object)"
      ]
     },
     "execution_count": 15,
     "metadata": {},
     "output_type": "execute_result"
    }
   ],
   "source": [
    "train.Overall_sentiment.unique()"
   ]
  },
  {
   "cell_type": "code",
   "execution_count": 16,
   "metadata": {},
   "outputs": [
    {
     "data": {
      "text/plain": [
       "array([nan])"
      ]
     },
     "execution_count": 16,
     "metadata": {},
     "output_type": "execute_result"
    }
   ],
   "source": [
    "train.Basis_of_classification.unique()"
   ]
  },
  {
   "cell_type": "markdown",
   "metadata": {},
   "source": [
    "#### Dev dataset"
   ]
  },
  {
   "cell_type": "code",
   "execution_count": 4,
   "metadata": {},
   "outputs": [
    {
     "data": {
      "text/plain": [
       "array(['Image_name', 'Image_URL', 'OCR_extracted_text', 'corrected_text',\n",
       "       'Humour', 'Sarcasm', 'offensive', 'Motivational',\n",
       "       'Overall_Sentiment', 'Basis_of_classification'], dtype=object)"
      ]
     },
     "execution_count": 4,
     "metadata": {},
     "output_type": "execute_result"
    }
   ],
   "source": [
    "dev = pd.read_csv(\"{}dev_cleaned.csv\".format(data_folder))\n",
    "dev.columns.values"
   ]
  },
  {
   "cell_type": "code",
   "execution_count": 5,
   "metadata": {},
   "outputs": [],
   "source": [
    "dev = dev.rename(columns={\"corrected_text\": \"Corrected_text\", \"offensive\": \"Offense\", \"Motivational\": \"Motivation\", \"Overall_Sentiment\": \"Overall_sentiment\", \"Image_name\": \"image_name\"})"
   ]
  },
  {
   "cell_type": "code",
   "execution_count": 6,
   "metadata": {},
   "outputs": [
    {
     "data": {
      "text/plain": [
       "array(['very_funny', 'funny', 'not_funny', 'hilarious'], dtype=object)"
      ]
     },
     "execution_count": 6,
     "metadata": {},
     "output_type": "execute_result"
    }
   ],
   "source": [
    "dev.Humour.unique()"
   ]
  },
  {
   "cell_type": "code",
   "execution_count": 7,
   "metadata": {},
   "outputs": [
    {
     "data": {
      "text/plain": [
       "array(['general', 'not_sarcastic', 'twisted_meaning', 'very_twisted'],\n",
       "      dtype=object)"
      ]
     },
     "execution_count": 7,
     "metadata": {},
     "output_type": "execute_result"
    }
   ],
   "source": [
    "dev.Sarcasm.unique()"
   ]
  },
  {
   "cell_type": "code",
   "execution_count": 8,
   "metadata": {},
   "outputs": [
    {
     "data": {
      "text/plain": [
       "array(['hateful_offensive', 'not_offensive', 'slight', 'very_offensive'],\n",
       "      dtype=object)"
      ]
     },
     "execution_count": 8,
     "metadata": {},
     "output_type": "execute_result"
    }
   ],
   "source": [
    "dev.Offense.unique()"
   ]
  },
  {
   "cell_type": "code",
   "execution_count": 9,
   "metadata": {},
   "outputs": [
    {
     "data": {
      "text/plain": [
       "array(['not_motivational', 'motivational'], dtype=object)"
      ]
     },
     "execution_count": 9,
     "metadata": {},
     "output_type": "execute_result"
    }
   ],
   "source": [
    "dev.Motivation.unique()"
   ]
  },
  {
   "cell_type": "code",
   "execution_count": 10,
   "metadata": {},
   "outputs": [
    {
     "data": {
      "text/plain": [
       "array(['very_positive', 'negative', 'neutral', 'positive',\n",
       "       'very_negative'], dtype=object)"
      ]
     },
     "execution_count": 10,
     "metadata": {},
     "output_type": "execute_result"
    }
   ],
   "source": [
    "dev.Overall_sentiment.unique()"
   ]
  },
  {
   "cell_type": "code",
   "execution_count": 11,
   "metadata": {},
   "outputs": [
    {
     "data": {
      "text/plain": [
       "array(['image_and_text ', 'image', 'text', 'image_and_text  '],\n",
       "      dtype=object)"
      ]
     },
     "execution_count": 11,
     "metadata": {},
     "output_type": "execute_result"
    }
   ],
   "source": [
    "dev.Basis_of_classification.unique()"
   ]
  },
  {
   "cell_type": "markdown",
   "metadata": {},
   "source": [
    "#### Test dataset"
   ]
  },
  {
   "cell_type": "code",
   "execution_count": 12,
   "metadata": {},
   "outputs": [],
   "source": [
    "test = pd.read_csv(\"{}test_cleaned.csv\".format(data_folder), skiprows=1, names=[\"image_name\", \"Image_URL\", \"OCR_extracted_text\", \"Corrected_text\"])"
   ]
  },
  {
   "cell_type": "code",
   "execution_count": 13,
   "metadata": {},
   "outputs": [
    {
     "data": {
      "text/plain": [
       "array(['image_name', 'Image_URL', 'OCR_extracted_text', 'Corrected_text'],\n",
       "      dtype=object)"
      ]
     },
     "execution_count": 13,
     "metadata": {},
     "output_type": "execute_result"
    }
   ],
   "source": [
    "test.columns.values"
   ]
  },
  {
   "cell_type": "markdown",
   "metadata": {},
   "source": [
    "### Checking missing values"
   ]
  },
  {
   "cell_type": "code",
   "execution_count": 17,
   "metadata": {},
   "outputs": [],
   "source": [
    "def replace_missing_text(x):\n",
    "    if x[\"Corrected_text\"] == ' ' or pd.isna(x[\"Corrected_text\"]):\n",
    "        return x[\"OCR_extracted_text\"]\n",
    "    return x[\"Corrected_text\"]"
   ]
  },
  {
   "cell_type": "markdown",
   "metadata": {},
   "source": [
    "#### Train dataset"
   ]
  },
  {
   "cell_type": "code",
   "execution_count": 27,
   "metadata": {},
   "outputs": [
    {
     "data": {
      "text/html": [
       "<div>\n",
       "<style scoped>\n",
       "    .dataframe tbody tr th:only-of-type {\n",
       "        vertical-align: middle;\n",
       "    }\n",
       "\n",
       "    .dataframe tbody tr th {\n",
       "        vertical-align: top;\n",
       "    }\n",
       "\n",
       "    .dataframe thead th {\n",
       "        text-align: right;\n",
       "    }\n",
       "</style>\n",
       "<table border=\"1\" class=\"dataframe\">\n",
       "  <thead>\n",
       "    <tr style=\"text-align: right;\">\n",
       "      <th></th>\n",
       "      <th>image_name</th>\n",
       "      <th>Image_URL</th>\n",
       "      <th>Corrected_text</th>\n",
       "      <th>Humour</th>\n",
       "      <th>Sarcasm</th>\n",
       "      <th>Offense</th>\n",
       "      <th>Motivation</th>\n",
       "      <th>Overall_sentiment</th>\n",
       "    </tr>\n",
       "  </thead>\n",
       "  <tbody>\n",
       "    <tr>\n",
       "      <th>4214</th>\n",
       "      <td>trump_1ciwua.jpg</td>\n",
       "      <td>https://i.imgflip.com/1ciwua.jpg</td>\n",
       "      <td>NaN</td>\n",
       "      <td>very_funny</td>\n",
       "      <td>general</td>\n",
       "      <td>slight</td>\n",
       "      <td>motivational</td>\n",
       "      <td>positive</td>\n",
       "    </tr>\n",
       "    <tr>\n",
       "      <th>4230</th>\n",
       "      <td>trump_85486890.jpg</td>\n",
       "      <td>https://cdn.ebaumsworld.com/mediaFiles/picture...</td>\n",
       "      <td>NaN</td>\n",
       "      <td>very_funny</td>\n",
       "      <td>general</td>\n",
       "      <td>slight</td>\n",
       "      <td>not_motivational</td>\n",
       "      <td>neutral</td>\n",
       "    </tr>\n",
       "    <tr>\n",
       "      <th>4231</th>\n",
       "      <td>trump_1486350110-meme-5.png</td>\n",
       "      <td>https://sportsdaydfw.imgix.net/1486350110-meme...</td>\n",
       "      <td>NaN</td>\n",
       "      <td>funny</td>\n",
       "      <td>twisted_meaning</td>\n",
       "      <td>very_offensive</td>\n",
       "      <td>motivational</td>\n",
       "      <td>negative</td>\n",
       "    </tr>\n",
       "    <tr>\n",
       "      <th>4261</th>\n",
       "      <td>trump_qeqrech7dx3z.jpg</td>\n",
       "      <td>https://i.redd.it/qeqrech7dx3z.jpg</td>\n",
       "      <td>NaN</td>\n",
       "      <td>not_funny</td>\n",
       "      <td>general</td>\n",
       "      <td>slight</td>\n",
       "      <td>motivational</td>\n",
       "      <td>very_positive</td>\n",
       "    </tr>\n",
       "    <tr>\n",
       "      <th>4807</th>\n",
       "      <td>trump_d88.jpg</td>\n",
       "      <td>https://i.kym-cdn.com/photos/images/facebook/0...</td>\n",
       "      <td>NaN</td>\n",
       "      <td>very_funny</td>\n",
       "      <td>general</td>\n",
       "      <td>slight</td>\n",
       "      <td>motivational</td>\n",
       "      <td>neutral</td>\n",
       "    </tr>\n",
       "    <tr>\n",
       "      <th>5285</th>\n",
       "      <td>minion_itm-about-as-ok-with-libs-fuckin-minion...</td>\n",
       "      <td>https://pics.conservativememes.com/itm-about-a...</td>\n",
       "      <td>NaN</td>\n",
       "      <td>very_funny</td>\n",
       "      <td>general</td>\n",
       "      <td>slight</td>\n",
       "      <td>motivational</td>\n",
       "      <td>neutral</td>\n",
       "    </tr>\n",
       "    <tr>\n",
       "      <th>6789</th>\n",
       "      <td>trump_1485530548-donald-trump-and-hillary-clin...</td>\n",
       "      <td>https://im.indiatimes.in/content/itimes/photo/...</td>\n",
       "      <td>NaN</td>\n",
       "      <td>very_funny</td>\n",
       "      <td>twisted_meaning</td>\n",
       "      <td>not_offensive</td>\n",
       "      <td>not_motivational</td>\n",
       "      <td>positive</td>\n",
       "    </tr>\n",
       "    <tr>\n",
       "      <th>6792</th>\n",
       "      <td>trump_amusing-memes.jpg</td>\n",
       "      <td>http://worldwideinterweb.com/wp-content/upload...</td>\n",
       "      <td>NaN</td>\n",
       "      <td>hilarious</td>\n",
       "      <td>general</td>\n",
       "      <td>not_offensive</td>\n",
       "      <td>not_motivational</td>\n",
       "      <td>positive</td>\n",
       "    </tr>\n",
       "    <tr>\n",
       "      <th>6794</th>\n",
       "      <td>trump_clinton-vs-trump-memes.jpg</td>\n",
       "      <td>http://worldwideinterweb.com/wp-content/upload...</td>\n",
       "      <td>NaN</td>\n",
       "      <td>not_funny</td>\n",
       "      <td>not_sarcastic</td>\n",
       "      <td>very_offensive</td>\n",
       "      <td>motivational</td>\n",
       "      <td>positive</td>\n",
       "    </tr>\n",
       "  </tbody>\n",
       "</table>\n",
       "</div>"
      ],
      "text/plain": [
       "                                             image_name  \\\n",
       "4214                                   trump_1ciwua.jpg   \n",
       "4230                                 trump_85486890.jpg   \n",
       "4231                        trump_1486350110-meme-5.png   \n",
       "4261                             trump_qeqrech7dx3z.jpg   \n",
       "4807                                      trump_d88.jpg   \n",
       "5285  minion_itm-about-as-ok-with-libs-fuckin-minion...   \n",
       "6789  trump_1485530548-donald-trump-and-hillary-clin...   \n",
       "6792                            trump_amusing-memes.jpg   \n",
       "6794                   trump_clinton-vs-trump-memes.jpg   \n",
       "\n",
       "                                              Image_URL Corrected_text  \\\n",
       "4214                   https://i.imgflip.com/1ciwua.jpg            NaN   \n",
       "4230  https://cdn.ebaumsworld.com/mediaFiles/picture...            NaN   \n",
       "4231  https://sportsdaydfw.imgix.net/1486350110-meme...            NaN   \n",
       "4261                 https://i.redd.it/qeqrech7dx3z.jpg            NaN   \n",
       "4807  https://i.kym-cdn.com/photos/images/facebook/0...            NaN   \n",
       "5285  https://pics.conservativememes.com/itm-about-a...            NaN   \n",
       "6789  https://im.indiatimes.in/content/itimes/photo/...            NaN   \n",
       "6792  http://worldwideinterweb.com/wp-content/upload...            NaN   \n",
       "6794  http://worldwideinterweb.com/wp-content/upload...            NaN   \n",
       "\n",
       "          Humour          Sarcasm         Offense        Motivation  \\\n",
       "4214  very_funny          general          slight      motivational   \n",
       "4230  very_funny          general          slight  not_motivational   \n",
       "4231       funny  twisted_meaning  very_offensive      motivational   \n",
       "4261   not_funny          general          slight      motivational   \n",
       "4807  very_funny          general          slight      motivational   \n",
       "5285  very_funny          general          slight      motivational   \n",
       "6789  very_funny  twisted_meaning   not_offensive  not_motivational   \n",
       "6792   hilarious          general   not_offensive  not_motivational   \n",
       "6794   not_funny    not_sarcastic  very_offensive      motivational   \n",
       "\n",
       "     Overall_sentiment  \n",
       "4214          positive  \n",
       "4230           neutral  \n",
       "4231          negative  \n",
       "4261     very_positive  \n",
       "4807           neutral  \n",
       "5285           neutral  \n",
       "6789          positive  \n",
       "6792          positive  \n",
       "6794          positive  "
      ]
     },
     "execution_count": 27,
     "metadata": {},
     "output_type": "execute_result"
    }
   ],
   "source": [
    "to_check = train.drop([\"Basis_of_classification\", \"OCR_extracted_text\"], axis=1)\n",
    "to_check[to_check.isnull().any(axis=1)]"
   ]
  },
  {
   "cell_type": "code",
   "execution_count": 28,
   "metadata": {},
   "outputs": [
    {
     "data": {
      "text/html": [
       "<div>\n",
       "<style scoped>\n",
       "    .dataframe tbody tr th:only-of-type {\n",
       "        vertical-align: middle;\n",
       "    }\n",
       "\n",
       "    .dataframe tbody tr th {\n",
       "        vertical-align: top;\n",
       "    }\n",
       "\n",
       "    .dataframe thead th {\n",
       "        text-align: right;\n",
       "    }\n",
       "</style>\n",
       "<table border=\"1\" class=\"dataframe\">\n",
       "  <thead>\n",
       "    <tr style=\"text-align: right;\">\n",
       "      <th></th>\n",
       "      <th>image_name</th>\n",
       "      <th>Image_URL</th>\n",
       "      <th>OCR_extracted_text</th>\n",
       "      <th>Corrected_text</th>\n",
       "      <th>Humour</th>\n",
       "      <th>Sarcasm</th>\n",
       "      <th>Offense</th>\n",
       "      <th>Motivation</th>\n",
       "      <th>Overall_sentiment</th>\n",
       "      <th>Basis_of_classification</th>\n",
       "    </tr>\n",
       "  </thead>\n",
       "  <tbody>\n",
       "    <tr>\n",
       "      <th>4214</th>\n",
       "      <td>trump_1ciwua.jpg</td>\n",
       "      <td>https://i.imgflip.com/1ciwua.jpg</td>\n",
       "      <td>NaN</td>\n",
       "      <td>NaN</td>\n",
       "      <td>very_funny</td>\n",
       "      <td>general</td>\n",
       "      <td>slight</td>\n",
       "      <td>motivational</td>\n",
       "      <td>positive</td>\n",
       "      <td>NaN</td>\n",
       "    </tr>\n",
       "    <tr>\n",
       "      <th>4230</th>\n",
       "      <td>trump_85486890.jpg</td>\n",
       "      <td>https://cdn.ebaumsworld.com/mediaFiles/picture...</td>\n",
       "      <td>NaN</td>\n",
       "      <td>NaN</td>\n",
       "      <td>very_funny</td>\n",
       "      <td>general</td>\n",
       "      <td>slight</td>\n",
       "      <td>not_motivational</td>\n",
       "      <td>neutral</td>\n",
       "      <td>NaN</td>\n",
       "    </tr>\n",
       "    <tr>\n",
       "      <th>4231</th>\n",
       "      <td>trump_1486350110-meme-5.png</td>\n",
       "      <td>https://sportsdaydfw.imgix.net/1486350110-meme...</td>\n",
       "      <td>NaN</td>\n",
       "      <td>NaN</td>\n",
       "      <td>funny</td>\n",
       "      <td>twisted_meaning</td>\n",
       "      <td>very_offensive</td>\n",
       "      <td>motivational</td>\n",
       "      <td>negative</td>\n",
       "      <td>NaN</td>\n",
       "    </tr>\n",
       "    <tr>\n",
       "      <th>4261</th>\n",
       "      <td>trump_qeqrech7dx3z.jpg</td>\n",
       "      <td>https://i.redd.it/qeqrech7dx3z.jpg</td>\n",
       "      <td>NaN</td>\n",
       "      <td>NaN</td>\n",
       "      <td>not_funny</td>\n",
       "      <td>general</td>\n",
       "      <td>slight</td>\n",
       "      <td>motivational</td>\n",
       "      <td>very_positive</td>\n",
       "      <td>NaN</td>\n",
       "    </tr>\n",
       "    <tr>\n",
       "      <th>4807</th>\n",
       "      <td>trump_d88.jpg</td>\n",
       "      <td>https://i.kym-cdn.com/photos/images/facebook/0...</td>\n",
       "      <td>NaN</td>\n",
       "      <td>NaN</td>\n",
       "      <td>very_funny</td>\n",
       "      <td>general</td>\n",
       "      <td>slight</td>\n",
       "      <td>motivational</td>\n",
       "      <td>neutral</td>\n",
       "      <td>NaN</td>\n",
       "    </tr>\n",
       "    <tr>\n",
       "      <th>5285</th>\n",
       "      <td>minion_itm-about-as-ok-with-libs-fuckin-minion...</td>\n",
       "      <td>https://pics.conservativememes.com/itm-about-a...</td>\n",
       "      <td>NaN</td>\n",
       "      <td>NaN</td>\n",
       "      <td>very_funny</td>\n",
       "      <td>general</td>\n",
       "      <td>slight</td>\n",
       "      <td>motivational</td>\n",
       "      <td>neutral</td>\n",
       "      <td>NaN</td>\n",
       "    </tr>\n",
       "    <tr>\n",
       "      <th>6789</th>\n",
       "      <td>trump_1485530548-donald-trump-and-hillary-clin...</td>\n",
       "      <td>https://im.indiatimes.in/content/itimes/photo/...</td>\n",
       "      <td>NaN</td>\n",
       "      <td>NaN</td>\n",
       "      <td>very_funny</td>\n",
       "      <td>twisted_meaning</td>\n",
       "      <td>not_offensive</td>\n",
       "      <td>not_motivational</td>\n",
       "      <td>positive</td>\n",
       "      <td>NaN</td>\n",
       "    </tr>\n",
       "    <tr>\n",
       "      <th>6792</th>\n",
       "      <td>trump_amusing-memes.jpg</td>\n",
       "      <td>http://worldwideinterweb.com/wp-content/upload...</td>\n",
       "      <td>NaN</td>\n",
       "      <td>NaN</td>\n",
       "      <td>hilarious</td>\n",
       "      <td>general</td>\n",
       "      <td>not_offensive</td>\n",
       "      <td>not_motivational</td>\n",
       "      <td>positive</td>\n",
       "      <td>NaN</td>\n",
       "    </tr>\n",
       "    <tr>\n",
       "      <th>6794</th>\n",
       "      <td>trump_clinton-vs-trump-memes.jpg</td>\n",
       "      <td>http://worldwideinterweb.com/wp-content/upload...</td>\n",
       "      <td>NaN</td>\n",
       "      <td>NaN</td>\n",
       "      <td>not_funny</td>\n",
       "      <td>not_sarcastic</td>\n",
       "      <td>very_offensive</td>\n",
       "      <td>motivational</td>\n",
       "      <td>positive</td>\n",
       "      <td>NaN</td>\n",
       "    </tr>\n",
       "  </tbody>\n",
       "</table>\n",
       "</div>"
      ],
      "text/plain": [
       "                                             image_name  \\\n",
       "4214                                   trump_1ciwua.jpg   \n",
       "4230                                 trump_85486890.jpg   \n",
       "4231                        trump_1486350110-meme-5.png   \n",
       "4261                             trump_qeqrech7dx3z.jpg   \n",
       "4807                                      trump_d88.jpg   \n",
       "5285  minion_itm-about-as-ok-with-libs-fuckin-minion...   \n",
       "6789  trump_1485530548-donald-trump-and-hillary-clin...   \n",
       "6792                            trump_amusing-memes.jpg   \n",
       "6794                   trump_clinton-vs-trump-memes.jpg   \n",
       "\n",
       "                                              Image_URL OCR_extracted_text  \\\n",
       "4214                   https://i.imgflip.com/1ciwua.jpg                NaN   \n",
       "4230  https://cdn.ebaumsworld.com/mediaFiles/picture...                NaN   \n",
       "4231  https://sportsdaydfw.imgix.net/1486350110-meme...                NaN   \n",
       "4261                 https://i.redd.it/qeqrech7dx3z.jpg                NaN   \n",
       "4807  https://i.kym-cdn.com/photos/images/facebook/0...                NaN   \n",
       "5285  https://pics.conservativememes.com/itm-about-a...                NaN   \n",
       "6789  https://im.indiatimes.in/content/itimes/photo/...                NaN   \n",
       "6792  http://worldwideinterweb.com/wp-content/upload...                NaN   \n",
       "6794  http://worldwideinterweb.com/wp-content/upload...                NaN   \n",
       "\n",
       "     Corrected_text      Humour          Sarcasm         Offense  \\\n",
       "4214            NaN  very_funny          general          slight   \n",
       "4230            NaN  very_funny          general          slight   \n",
       "4231            NaN       funny  twisted_meaning  very_offensive   \n",
       "4261            NaN   not_funny          general          slight   \n",
       "4807            NaN  very_funny          general          slight   \n",
       "5285            NaN  very_funny          general          slight   \n",
       "6789            NaN  very_funny  twisted_meaning   not_offensive   \n",
       "6792            NaN   hilarious          general   not_offensive   \n",
       "6794            NaN   not_funny    not_sarcastic  very_offensive   \n",
       "\n",
       "            Motivation Overall_sentiment  Basis_of_classification  \n",
       "4214      motivational          positive                      NaN  \n",
       "4230  not_motivational           neutral                      NaN  \n",
       "4231      motivational          negative                      NaN  \n",
       "4261      motivational     very_positive                      NaN  \n",
       "4807      motivational           neutral                      NaN  \n",
       "5285      motivational           neutral                      NaN  \n",
       "6789  not_motivational          positive                      NaN  \n",
       "6792  not_motivational          positive                      NaN  \n",
       "6794      motivational          positive                      NaN  "
      ]
     },
     "execution_count": 28,
     "metadata": {},
     "output_type": "execute_result"
    }
   ],
   "source": [
    "train[train[\"Corrected_text\"].isnull()]"
   ]
  },
  {
   "cell_type": "code",
   "execution_count": 29,
   "metadata": {},
   "outputs": [],
   "source": [
    "train.loc[[4214, 4230, 4231, 4261, 4807, 5285, 6789, 6792, 6794],\"Corrected_text\"] = [\n",
    "    \"It's rigged ! it's rigged ! it's a left wing-- no, a right wing-- no, a media conspiracy\", \n",
    "    \"Stage #1 - Action complete Stage #2 make it stick!\", \n",
    "    \"Breaking: Trump signs executive order giving Tom Brady and the new england patriots 41 points\", \n",
    "    \"When you login to your neighbors router using 1234\", \n",
    "    \"I'm gonna build some fancy walls even though I have millions of extra dollars in gonna make the mexicans pay for it\", \n",
    "    \"I'm about as OK with libs burnin' the flag as I am with how much it burns when I piss Fukin minion memes. ~L.\", \n",
    "    \"If Donald and Hillary are together on a boat in the middle of the ocean and it sinks. who survives ? AMERICA\",\n",
    "    \"Bruh why this tub of margarine look like Donald Trump ?\", \n",
    "    \"2016 election Trump vs Hillary still a better love story than Twilight\", \n",
    "]"
   ]
  },
  {
   "cell_type": "code",
   "execution_count": 30,
   "metadata": {},
   "outputs": [
    {
     "data": {
      "text/html": [
       "<div>\n",
       "<style scoped>\n",
       "    .dataframe tbody tr th:only-of-type {\n",
       "        vertical-align: middle;\n",
       "    }\n",
       "\n",
       "    .dataframe tbody tr th {\n",
       "        vertical-align: top;\n",
       "    }\n",
       "\n",
       "    .dataframe thead th {\n",
       "        text-align: right;\n",
       "    }\n",
       "</style>\n",
       "<table border=\"1\" class=\"dataframe\">\n",
       "  <thead>\n",
       "    <tr style=\"text-align: right;\">\n",
       "      <th></th>\n",
       "      <th>image_name</th>\n",
       "      <th>Image_URL</th>\n",
       "      <th>OCR_extracted_text</th>\n",
       "      <th>Corrected_text</th>\n",
       "      <th>Humour</th>\n",
       "      <th>Sarcasm</th>\n",
       "      <th>Offense</th>\n",
       "      <th>Motivation</th>\n",
       "      <th>Overall_sentiment</th>\n",
       "      <th>Basis_of_classification</th>\n",
       "    </tr>\n",
       "  </thead>\n",
       "  <tbody>\n",
       "  </tbody>\n",
       "</table>\n",
       "</div>"
      ],
      "text/plain": [
       "Empty DataFrame\n",
       "Columns: [image_name, Image_URL, OCR_extracted_text, Corrected_text, Humour, Sarcasm, Offense, Motivation, Overall_sentiment, Basis_of_classification]\n",
       "Index: []"
      ]
     },
     "execution_count": 30,
     "metadata": {},
     "output_type": "execute_result"
    }
   ],
   "source": [
    "train[train[\"Corrected_text\"].isnull()]"
   ]
  },
  {
   "cell_type": "code",
   "execution_count": 31,
   "metadata": {},
   "outputs": [],
   "source": [
    "train.to_csv(\"{}train_cleaned_missing.csv\".format(data_folder), index=False)"
   ]
  },
  {
   "cell_type": "markdown",
   "metadata": {},
   "source": [
    "#### Dev dataset"
   ]
  },
  {
   "cell_type": "code",
   "execution_count": 32,
   "metadata": {},
   "outputs": [
    {
     "data": {
      "text/html": [
       "<div>\n",
       "<style scoped>\n",
       "    .dataframe tbody tr th:only-of-type {\n",
       "        vertical-align: middle;\n",
       "    }\n",
       "\n",
       "    .dataframe tbody tr th {\n",
       "        vertical-align: top;\n",
       "    }\n",
       "\n",
       "    .dataframe thead th {\n",
       "        text-align: right;\n",
       "    }\n",
       "</style>\n",
       "<table border=\"1\" class=\"dataframe\">\n",
       "  <thead>\n",
       "    <tr style=\"text-align: right;\">\n",
       "      <th></th>\n",
       "      <th>image_name</th>\n",
       "      <th>Image_URL</th>\n",
       "      <th>OCR_extracted_text</th>\n",
       "      <th>Corrected_text</th>\n",
       "      <th>Humour</th>\n",
       "      <th>Sarcasm</th>\n",
       "      <th>Offense</th>\n",
       "      <th>Motivation</th>\n",
       "      <th>Overall_sentiment</th>\n",
       "      <th>Basis_of_classification</th>\n",
       "    </tr>\n",
       "  </thead>\n",
       "  <tbody>\n",
       "  </tbody>\n",
       "</table>\n",
       "</div>"
      ],
      "text/plain": [
       "Empty DataFrame\n",
       "Columns: [image_name, Image_URL, OCR_extracted_text, Corrected_text, Humour, Sarcasm, Offense, Motivation, Overall_sentiment, Basis_of_classification]\n",
       "Index: []"
      ]
     },
     "execution_count": 32,
     "metadata": {},
     "output_type": "execute_result"
    }
   ],
   "source": [
    "dev[dev[\"Corrected_text\"].isnull()]"
   ]
  },
  {
   "cell_type": "code",
   "execution_count": 34,
   "metadata": {},
   "outputs": [],
   "source": [
    "dev[\"Corrected_text\"] = dev.apply(lambda x: replace_missing_text(x), axis=1)"
   ]
  },
  {
   "cell_type": "code",
   "execution_count": 35,
   "metadata": {},
   "outputs": [
    {
     "data": {
      "text/html": [
       "<div>\n",
       "<style scoped>\n",
       "    .dataframe tbody tr th:only-of-type {\n",
       "        vertical-align: middle;\n",
       "    }\n",
       "\n",
       "    .dataframe tbody tr th {\n",
       "        vertical-align: top;\n",
       "    }\n",
       "\n",
       "    .dataframe thead th {\n",
       "        text-align: right;\n",
       "    }\n",
       "</style>\n",
       "<table border=\"1\" class=\"dataframe\">\n",
       "  <thead>\n",
       "    <tr style=\"text-align: right;\">\n",
       "      <th></th>\n",
       "      <th>image_name</th>\n",
       "      <th>Image_URL</th>\n",
       "      <th>Corrected_text</th>\n",
       "      <th>Humour</th>\n",
       "      <th>Sarcasm</th>\n",
       "      <th>Offense</th>\n",
       "      <th>Motivation</th>\n",
       "      <th>Overall_sentiment</th>\n",
       "    </tr>\n",
       "  </thead>\n",
       "  <tbody>\n",
       "  </tbody>\n",
       "</table>\n",
       "</div>"
      ],
      "text/plain": [
       "Empty DataFrame\n",
       "Columns: [image_name, Image_URL, Corrected_text, Humour, Sarcasm, Offense, Motivation, Overall_sentiment]\n",
       "Index: []"
      ]
     },
     "execution_count": 35,
     "metadata": {},
     "output_type": "execute_result"
    }
   ],
   "source": [
    "to_check = dev.drop([\"Basis_of_classification\", \"OCR_extracted_text\"], axis=1)\n",
    "to_check[to_check.isnull().any(axis=1)]"
   ]
  },
  {
   "cell_type": "code",
   "execution_count": 36,
   "metadata": {},
   "outputs": [],
   "source": [
    "dev.to_csv(\"{}dev_cleaned_missing.csv\".format(data_folder), index=False)"
   ]
  },
  {
   "cell_type": "markdown",
   "metadata": {},
   "source": [
    "#### Test dataset"
   ]
  },
  {
   "cell_type": "code",
   "execution_count": 18,
   "metadata": {},
   "outputs": [
    {
     "data": {
      "text/html": [
       "<div>\n",
       "<style scoped>\n",
       "    .dataframe tbody tr th:only-of-type {\n",
       "        vertical-align: middle;\n",
       "    }\n",
       "\n",
       "    .dataframe tbody tr th {\n",
       "        vertical-align: top;\n",
       "    }\n",
       "\n",
       "    .dataframe thead th {\n",
       "        text-align: right;\n",
       "    }\n",
       "</style>\n",
       "<table border=\"1\" class=\"dataframe\">\n",
       "  <thead>\n",
       "    <tr style=\"text-align: right;\">\n",
       "      <th></th>\n",
       "      <th>image_name</th>\n",
       "      <th>Image_URL</th>\n",
       "      <th>OCR_extracted_text</th>\n",
       "      <th>Corrected_text</th>\n",
       "    </tr>\n",
       "  </thead>\n",
       "  <tbody>\n",
       "    <tr>\n",
       "      <th>222</th>\n",
       "      <td>sports_yzpsp7txypndvzwfuzlb.jpg</td>\n",
       "      <td>https://images.complex.com/complex/image/uploa...</td>\n",
       "      <td>PLAYS A GAME OF ROCK-PAPER-SCISSORS @NBAMEMES ...</td>\n",
       "      <td>NaN</td>\n",
       "    </tr>\n",
       "    <tr>\n",
       "      <th>271</th>\n",
       "      <td>trump_Trump-Memes-8.jpg</td>\n",
       "      <td>https://i2.wp.com/informedsharing.com/wp-conte...</td>\n",
       "      <td>NaN</td>\n",
       "      <td>NaN</td>\n",
       "    </tr>\n",
       "    <tr>\n",
       "      <th>348</th>\n",
       "      <td>misog_111jh6qu4wyg20204j16vkd.jpg</td>\n",
       "      <td>https://images.complex.com/complex/image/uploa...</td>\n",
       "      <td>MY HUSBAND DOES EVERYTHING I ASK BUT I HAVE TO...</td>\n",
       "      <td>NaN</td>\n",
       "    </tr>\n",
       "    <tr>\n",
       "      <th>355</th>\n",
       "      <td>friends_thomas_freaked_out_meme_by_wildcat1999...</td>\n",
       "      <td>https://images-wixmp-ed30a86b8c4ca887773594c2....</td>\n",
       "      <td>THAT MOMENT WHEN YOU WISH YOU COULD UNSEE WHAT...</td>\n",
       "      <td>NaN</td>\n",
       "    </tr>\n",
       "    <tr>\n",
       "      <th>513</th>\n",
       "      <td>friends_thomas_and_friends_meme_9_by_thethomag...</td>\n",
       "      <td>https://images-wixmp-ed30a86b8c4ca887773594c2....</td>\n",
       "      <td>WHAT THE HELL?</td>\n",
       "      <td>NaN</td>\n",
       "    </tr>\n",
       "    <tr>\n",
       "      <th>623</th>\n",
       "      <td>trump_HellToupee1500-5ada42951d64040039145c86.jpg</td>\n",
       "      <td>https://www.lifewire.com/thmb/e7oqSr4QLiAetIg4...</td>\n",
       "      <td>THERE WILL BE HELL TOUPEE</td>\n",
       "      <td>NaN</td>\n",
       "    </tr>\n",
       "    <tr>\n",
       "      <th>853</th>\n",
       "      <td>got_GoT_Meme_2.jpg</td>\n",
       "      <td>https://img-static.popxo.com/tr:w-600</td>\n",
       "      <td>Winter... is coming! fb.com/NCWEmmy #friends w...</td>\n",
       "      <td>NaN</td>\n",
       "    </tr>\n",
       "    <tr>\n",
       "      <th>879</th>\n",
       "      <td>misog_257ulhmkmisicg8e7twizsr.jpg</td>\n",
       "      <td>https://images.complex.com/complex/image/uploa...</td>\n",
       "      <td>THERE WILL ONLY BE 7 PLANETS AFTER I DESTROY U...</td>\n",
       "      <td>NaN</td>\n",
       "    </tr>\n",
       "    <tr>\n",
       "      <th>984</th>\n",
       "      <td>racis_179trumpracist.jpg</td>\n",
       "      <td>https://www.snopes.com/tachyon/2016/05/trumpra...</td>\n",
       "      <td>Donald Trump has been in the public eye for ov...</td>\n",
       "      <td>NaN</td>\n",
       "    </tr>\n",
       "    <tr>\n",
       "      <th>1004</th>\n",
       "      <td>bethe_223Conspiracy-Ted1.jpg</td>\n",
       "      <td>https://media.wired.com/photos/5932705958b0d64...</td>\n",
       "      <td>WHAT IF 'BILL &amp; TED'S' JUST CAME OUT TODAY</td>\n",
       "      <td>NaN</td>\n",
       "    </tr>\n",
       "    <tr>\n",
       "      <th>1054</th>\n",
       "      <td>zeck_Funny-Dank-Mark-Zuckerberg-Memes-CLICK-4-...</td>\n",
       "      <td>https://cdn.shortpixel.ai/client/q_glossy</td>\n",
       "      <td>You now know the ZUCC s true form DO NOT share...</td>\n",
       "      <td>NaN</td>\n",
       "    </tr>\n",
       "    <tr>\n",
       "      <th>1115</th>\n",
       "      <td>sports_zagf3xclwar6qztwprk9.jpg</td>\n",
       "      <td>https://images.complex.com/complex/image/uploa...</td>\n",
       "      <td>@NBAMEMES WAIT  I THOUGHT RED MEANT RO GO!? HY...</td>\n",
       "      <td>NaN</td>\n",
       "    </tr>\n",
       "    <tr>\n",
       "      <th>1146</th>\n",
       "      <td>bethe_200Bill-also-hates-Candy-Crush.jpg</td>\n",
       "      <td>https://media1.popsugar-assets.com/files/thumb...</td>\n",
       "      <td>This is Bill. Bill does not play candy crush. ...</td>\n",
       "      <td>NaN</td>\n",
       "    </tr>\n",
       "    <tr>\n",
       "      <th>1259</th>\n",
       "      <td>misog_49original-4336-1491558198-3.png</td>\n",
       "      <td>https://img.buzzfeed.com/buzzfeed-static/stati...</td>\n",
       "      <td>me after taking one feminist theory class Amen...</td>\n",
       "      <td>NaN</td>\n",
       "    </tr>\n",
       "    <tr>\n",
       "      <th>1289</th>\n",
       "      <td>titanic_original-grid-image-22443-1368649970-2...</td>\n",
       "      <td>https://img.buzzfeed.com/buzzfeed-static/stati...</td>\n",
       "      <td>WINS TICKETS TO GET ON TITANIC DIES</td>\n",
       "      <td>NaN</td>\n",
       "    </tr>\n",
       "    <tr>\n",
       "      <th>1384</th>\n",
       "      <td>spiderman_spiderman___middle_of_something_by_i...</td>\n",
       "      <td>https://images-wixmp-ed30a86b8c4ca887773594c2....</td>\n",
       "      <td>CAN YOU COME BACK IN A LITTLE BIT? I'M IN THE ...</td>\n",
       "      <td>NaN</td>\n",
       "    </tr>\n",
       "    <tr>\n",
       "      <th>1434</th>\n",
       "      <td>misog_39mp0f1kanzogq2s3xr70d.jpg</td>\n",
       "      <td>https://images.complex.com/complex/image/uploa...</td>\n",
       "      <td>HATES CHILDREN ASIA MERI BECOMES TEACHER</td>\n",
       "      <td>NaN</td>\n",
       "    </tr>\n",
       "    <tr>\n",
       "      <th>1815</th>\n",
       "      <td>trump_Melania-Trump-memes-784x441.jpg</td>\n",
       "      <td>https://st1.latestly.com/wp-content/uploads/20...</td>\n",
       "      <td>NaN</td>\n",
       "      <td>NaN</td>\n",
       "    </tr>\n",
       "  </tbody>\n",
       "</table>\n",
       "</div>"
      ],
      "text/plain": [
       "                                             image_name  \\\n",
       "222                     sports_yzpsp7txypndvzwfuzlb.jpg   \n",
       "271                             trump_Trump-Memes-8.jpg   \n",
       "348                   misog_111jh6qu4wyg20204j16vkd.jpg   \n",
       "355   friends_thomas_freaked_out_meme_by_wildcat1999...   \n",
       "513   friends_thomas_and_friends_meme_9_by_thethomag...   \n",
       "623   trump_HellToupee1500-5ada42951d64040039145c86.jpg   \n",
       "853                                  got_GoT_Meme_2.jpg   \n",
       "879                   misog_257ulhmkmisicg8e7twizsr.jpg   \n",
       "984                            racis_179trumpracist.jpg   \n",
       "1004                       bethe_223Conspiracy-Ted1.jpg   \n",
       "1054  zeck_Funny-Dank-Mark-Zuckerberg-Memes-CLICK-4-...   \n",
       "1115                    sports_zagf3xclwar6qztwprk9.jpg   \n",
       "1146           bethe_200Bill-also-hates-Candy-Crush.jpg   \n",
       "1259             misog_49original-4336-1491558198-3.png   \n",
       "1289  titanic_original-grid-image-22443-1368649970-2...   \n",
       "1384  spiderman_spiderman___middle_of_something_by_i...   \n",
       "1434                   misog_39mp0f1kanzogq2s3xr70d.jpg   \n",
       "1815              trump_Melania-Trump-memes-784x441.jpg   \n",
       "\n",
       "                                              Image_URL  \\\n",
       "222   https://images.complex.com/complex/image/uploa...   \n",
       "271   https://i2.wp.com/informedsharing.com/wp-conte...   \n",
       "348   https://images.complex.com/complex/image/uploa...   \n",
       "355   https://images-wixmp-ed30a86b8c4ca887773594c2....   \n",
       "513   https://images-wixmp-ed30a86b8c4ca887773594c2....   \n",
       "623   https://www.lifewire.com/thmb/e7oqSr4QLiAetIg4...   \n",
       "853               https://img-static.popxo.com/tr:w-600   \n",
       "879   https://images.complex.com/complex/image/uploa...   \n",
       "984   https://www.snopes.com/tachyon/2016/05/trumpra...   \n",
       "1004  https://media.wired.com/photos/5932705958b0d64...   \n",
       "1054          https://cdn.shortpixel.ai/client/q_glossy   \n",
       "1115  https://images.complex.com/complex/image/uploa...   \n",
       "1146  https://media1.popsugar-assets.com/files/thumb...   \n",
       "1259  https://img.buzzfeed.com/buzzfeed-static/stati...   \n",
       "1289  https://img.buzzfeed.com/buzzfeed-static/stati...   \n",
       "1384  https://images-wixmp-ed30a86b8c4ca887773594c2....   \n",
       "1434  https://images.complex.com/complex/image/uploa...   \n",
       "1815  https://st1.latestly.com/wp-content/uploads/20...   \n",
       "\n",
       "                                     OCR_extracted_text Corrected_text  \n",
       "222   PLAYS A GAME OF ROCK-PAPER-SCISSORS @NBAMEMES ...            NaN  \n",
       "271                                                 NaN            NaN  \n",
       "348   MY HUSBAND DOES EVERYTHING I ASK BUT I HAVE TO...            NaN  \n",
       "355   THAT MOMENT WHEN YOU WISH YOU COULD UNSEE WHAT...            NaN  \n",
       "513                                      WHAT THE HELL?            NaN  \n",
       "623                           THERE WILL BE HELL TOUPEE            NaN  \n",
       "853   Winter... is coming! fb.com/NCWEmmy #friends w...            NaN  \n",
       "879   THERE WILL ONLY BE 7 PLANETS AFTER I DESTROY U...            NaN  \n",
       "984   Donald Trump has been in the public eye for ov...            NaN  \n",
       "1004         WHAT IF 'BILL & TED'S' JUST CAME OUT TODAY            NaN  \n",
       "1054  You now know the ZUCC s true form DO NOT share...            NaN  \n",
       "1115  @NBAMEMES WAIT  I THOUGHT RED MEANT RO GO!? HY...            NaN  \n",
       "1146  This is Bill. Bill does not play candy crush. ...            NaN  \n",
       "1259  me after taking one feminist theory class Amen...            NaN  \n",
       "1289                WINS TICKETS TO GET ON TITANIC DIES            NaN  \n",
       "1384  CAN YOU COME BACK IN A LITTLE BIT? I'M IN THE ...            NaN  \n",
       "1434           HATES CHILDREN ASIA MERI BECOMES TEACHER            NaN  \n",
       "1815                                                NaN            NaN  "
      ]
     },
     "execution_count": 18,
     "metadata": {},
     "output_type": "execute_result"
    }
   ],
   "source": [
    "test[test[\"Corrected_text\"].isnull()]"
   ]
  },
  {
   "cell_type": "code",
   "execution_count": 19,
   "metadata": {},
   "outputs": [],
   "source": [
    "test[\"Corrected_text\"] = test.apply(lambda x: replace_missing_text(x), axis=1)"
   ]
  },
  {
   "cell_type": "code",
   "execution_count": 20,
   "metadata": {},
   "outputs": [
    {
     "data": {
      "text/html": [
       "<div>\n",
       "<style scoped>\n",
       "    .dataframe tbody tr th:only-of-type {\n",
       "        vertical-align: middle;\n",
       "    }\n",
       "\n",
       "    .dataframe tbody tr th {\n",
       "        vertical-align: top;\n",
       "    }\n",
       "\n",
       "    .dataframe thead th {\n",
       "        text-align: right;\n",
       "    }\n",
       "</style>\n",
       "<table border=\"1\" class=\"dataframe\">\n",
       "  <thead>\n",
       "    <tr style=\"text-align: right;\">\n",
       "      <th></th>\n",
       "      <th>image_name</th>\n",
       "      <th>Image_URL</th>\n",
       "      <th>OCR_extracted_text</th>\n",
       "      <th>Corrected_text</th>\n",
       "    </tr>\n",
       "  </thead>\n",
       "  <tbody>\n",
       "    <tr>\n",
       "      <th>271</th>\n",
       "      <td>trump_Trump-Memes-8.jpg</td>\n",
       "      <td>https://i2.wp.com/informedsharing.com/wp-conte...</td>\n",
       "      <td>NaN</td>\n",
       "      <td>NaN</td>\n",
       "    </tr>\n",
       "    <tr>\n",
       "      <th>1815</th>\n",
       "      <td>trump_Melania-Trump-memes-784x441.jpg</td>\n",
       "      <td>https://st1.latestly.com/wp-content/uploads/20...</td>\n",
       "      <td>NaN</td>\n",
       "      <td>NaN</td>\n",
       "    </tr>\n",
       "  </tbody>\n",
       "</table>\n",
       "</div>"
      ],
      "text/plain": [
       "                                 image_name  \\\n",
       "271                 trump_Trump-Memes-8.jpg   \n",
       "1815  trump_Melania-Trump-memes-784x441.jpg   \n",
       "\n",
       "                                              Image_URL OCR_extracted_text  \\\n",
       "271   https://i2.wp.com/informedsharing.com/wp-conte...                NaN   \n",
       "1815  https://st1.latestly.com/wp-content/uploads/20...                NaN   \n",
       "\n",
       "     Corrected_text  \n",
       "271             NaN  \n",
       "1815            NaN  "
      ]
     },
     "execution_count": 20,
     "metadata": {},
     "output_type": "execute_result"
    }
   ],
   "source": [
    "test[test[\"Corrected_text\"].isnull()]"
   ]
  },
  {
   "cell_type": "code",
   "execution_count": 21,
   "metadata": {},
   "outputs": [],
   "source": [
    "test.loc[[272, 1815],\"Corrected_text\"] = [\n",
    "    \"Do you have any history of mental illness in your family ? I have an uncle who is voting for Donald Trump\",\n",
    "    \"\"\n",
    "]"
   ]
  },
  {
   "cell_type": "code",
   "execution_count": 22,
   "metadata": {},
   "outputs": [],
   "source": [
    "test.to_csv(\"{}test_cleaned_missing.csv\".format(data_folder), index=False)"
   ]
  },
  {
   "cell_type": "markdown",
   "metadata": {},
   "source": [
    "### Check for duplicates"
   ]
  },
  {
   "cell_type": "markdown",
   "metadata": {},
   "source": [
    "#### Train dataset"
   ]
  },
  {
   "cell_type": "code",
   "execution_count": 42,
   "metadata": {},
   "outputs": [
    {
     "data": {
      "text/html": [
       "<div>\n",
       "<style scoped>\n",
       "    .dataframe tbody tr th:only-of-type {\n",
       "        vertical-align: middle;\n",
       "    }\n",
       "\n",
       "    .dataframe tbody tr th {\n",
       "        vertical-align: top;\n",
       "    }\n",
       "\n",
       "    .dataframe thead th {\n",
       "        text-align: right;\n",
       "    }\n",
       "</style>\n",
       "<table border=\"1\" class=\"dataframe\">\n",
       "  <thead>\n",
       "    <tr style=\"text-align: right;\">\n",
       "      <th></th>\n",
       "      <th>image_name</th>\n",
       "      <th>Image_URL</th>\n",
       "      <th>OCR_extracted_text</th>\n",
       "      <th>Corrected_text</th>\n",
       "      <th>Humour</th>\n",
       "      <th>Sarcasm</th>\n",
       "      <th>Offense</th>\n",
       "      <th>Motivation</th>\n",
       "      <th>Overall_sentiment</th>\n",
       "      <th>Basis_of_classification</th>\n",
       "    </tr>\n",
       "  </thead>\n",
       "  <tbody>\n",
       "    <tr>\n",
       "      <th>1971</th>\n",
       "      <td>hillary_c3fd01300e5bee2ba12a45ee2f160ed11b8926...</td>\n",
       "      <td>http://www.quickmeme.com/img/c3/c3fd01300e5bee...</td>\n",
       "      <td>WANTS TO BAN VIOLENT VIDEO GAMES DOESN'T TRY T...</td>\n",
       "      <td>WANTS TO BAN VIOLENT VIDEO GAMES DOESN'T TRY T...</td>\n",
       "      <td>very_funny</td>\n",
       "      <td>general</td>\n",
       "      <td>slight</td>\n",
       "      <td>motivational</td>\n",
       "      <td>positive</td>\n",
       "      <td>NaN</td>\n",
       "    </tr>\n",
       "  </tbody>\n",
       "</table>\n",
       "</div>"
      ],
      "text/plain": [
       "                                             image_name  \\\n",
       "1971  hillary_c3fd01300e5bee2ba12a45ee2f160ed11b8926...   \n",
       "\n",
       "                                              Image_URL  \\\n",
       "1971  http://www.quickmeme.com/img/c3/c3fd01300e5bee...   \n",
       "\n",
       "                                     OCR_extracted_text  \\\n",
       "1971  WANTS TO BAN VIOLENT VIDEO GAMES DOESN'T TRY T...   \n",
       "\n",
       "                                         Corrected_text      Humour  Sarcasm  \\\n",
       "1971  WANTS TO BAN VIOLENT VIDEO GAMES DOESN'T TRY T...  very_funny  general   \n",
       "\n",
       "     Offense    Motivation Overall_sentiment  Basis_of_classification  \n",
       "1971  slight  motivational          positive                      NaN  "
      ]
     },
     "execution_count": 42,
     "metadata": {},
     "output_type": "execute_result"
    }
   ],
   "source": [
    "train[train.duplicated()]"
   ]
  },
  {
   "cell_type": "code",
   "execution_count": 43,
   "metadata": {},
   "outputs": [],
   "source": [
    "train.drop_duplicates(keep=\"first\",inplace=True)"
   ]
  },
  {
   "cell_type": "markdown",
   "metadata": {},
   "source": [
    "#### Dev dataset"
   ]
  },
  {
   "cell_type": "code",
   "execution_count": 44,
   "metadata": {},
   "outputs": [
    {
     "data": {
      "text/html": [
       "<div>\n",
       "<style scoped>\n",
       "    .dataframe tbody tr th:only-of-type {\n",
       "        vertical-align: middle;\n",
       "    }\n",
       "\n",
       "    .dataframe tbody tr th {\n",
       "        vertical-align: top;\n",
       "    }\n",
       "\n",
       "    .dataframe thead th {\n",
       "        text-align: right;\n",
       "    }\n",
       "</style>\n",
       "<table border=\"1\" class=\"dataframe\">\n",
       "  <thead>\n",
       "    <tr style=\"text-align: right;\">\n",
       "      <th></th>\n",
       "      <th>image_name</th>\n",
       "      <th>Image_URL</th>\n",
       "      <th>OCR_extracted_text</th>\n",
       "      <th>Corrected_text</th>\n",
       "      <th>Humour</th>\n",
       "      <th>Sarcasm</th>\n",
       "      <th>Offense</th>\n",
       "      <th>Motivation</th>\n",
       "      <th>Overall_sentiment</th>\n",
       "      <th>Basis_of_classification</th>\n",
       "    </tr>\n",
       "  </thead>\n",
       "  <tbody>\n",
       "  </tbody>\n",
       "</table>\n",
       "</div>"
      ],
      "text/plain": [
       "Empty DataFrame\n",
       "Columns: [image_name, Image_URL, OCR_extracted_text, Corrected_text, Humour, Sarcasm, Offense, Motivation, Overall_sentiment, Basis_of_classification]\n",
       "Index: []"
      ]
     },
     "execution_count": 44,
     "metadata": {},
     "output_type": "execute_result"
    }
   ],
   "source": [
    "dev[dev.duplicated()]"
   ]
  },
  {
   "cell_type": "markdown",
   "metadata": {},
   "source": [
    "#### Test dataset"
   ]
  },
  {
   "cell_type": "code",
   "execution_count": 23,
   "metadata": {},
   "outputs": [
    {
     "data": {
      "text/html": [
       "<div>\n",
       "<style scoped>\n",
       "    .dataframe tbody tr th:only-of-type {\n",
       "        vertical-align: middle;\n",
       "    }\n",
       "\n",
       "    .dataframe tbody tr th {\n",
       "        vertical-align: top;\n",
       "    }\n",
       "\n",
       "    .dataframe thead th {\n",
       "        text-align: right;\n",
       "    }\n",
       "</style>\n",
       "<table border=\"1\" class=\"dataframe\">\n",
       "  <thead>\n",
       "    <tr style=\"text-align: right;\">\n",
       "      <th></th>\n",
       "      <th>image_name</th>\n",
       "      <th>Image_URL</th>\n",
       "      <th>OCR_extracted_text</th>\n",
       "      <th>Corrected_text</th>\n",
       "    </tr>\n",
       "  </thead>\n",
       "  <tbody>\n",
       "  </tbody>\n",
       "</table>\n",
       "</div>"
      ],
      "text/plain": [
       "Empty DataFrame\n",
       "Columns: [image_name, Image_URL, OCR_extracted_text, Corrected_text]\n",
       "Index: []"
      ]
     },
     "execution_count": 23,
     "metadata": {},
     "output_type": "execute_result"
    }
   ],
   "source": [
    "test[test.duplicated()]"
   ]
  },
  {
   "cell_type": "markdown",
   "metadata": {},
   "source": [
    "### Remove Urls from text"
   ]
  },
  {
   "cell_type": "code",
   "execution_count": 24,
   "metadata": {},
   "outputs": [],
   "source": [
    "url_regex = r\"(?i)(https?:\\/\\/)*(www\\.)?[-a-zA-Z0-9@:%._\\+~#=]{1,256}\\.[a-zA-Z0-9()]{1,6}\\b([-a-zA-Z0-9()@:%_\\+.~#?&\\/\\/=]*)\"\n",
    "copyright_regex = r\"(?i)(imgflip|memecenter|we\\s*know\\s*memes?)\\s*$\""
   ]
  },
  {
   "cell_type": "markdown",
   "metadata": {},
   "source": [
    "#### Train dataset"
   ]
  },
  {
   "cell_type": "code",
   "execution_count": 47,
   "metadata": {},
   "outputs": [],
   "source": [
    "train.Corrected_text = train.Corrected_text.replace(url_regex, '', regex=True)\n",
    "train.Corrected_text = train.Corrected_text.replace(copyright_regex, '', regex=True)\n",
    "train.Corrected_text = train.Corrected_text.str.strip()"
   ]
  },
  {
   "cell_type": "code",
   "execution_count": 48,
   "metadata": {},
   "outputs": [
    {
     "data": {
      "text/html": [
       "<div>\n",
       "<style scoped>\n",
       "    .dataframe tbody tr th:only-of-type {\n",
       "        vertical-align: middle;\n",
       "    }\n",
       "\n",
       "    .dataframe tbody tr th {\n",
       "        vertical-align: top;\n",
       "    }\n",
       "\n",
       "    .dataframe thead th {\n",
       "        text-align: right;\n",
       "    }\n",
       "</style>\n",
       "<table border=\"1\" class=\"dataframe\">\n",
       "  <thead>\n",
       "    <tr style=\"text-align: right;\">\n",
       "      <th></th>\n",
       "      <th>image_name</th>\n",
       "      <th>Image_URL</th>\n",
       "      <th>OCR_extracted_text</th>\n",
       "      <th>Corrected_text</th>\n",
       "      <th>Humour</th>\n",
       "      <th>Sarcasm</th>\n",
       "      <th>Offense</th>\n",
       "      <th>Motivation</th>\n",
       "      <th>Overall_sentiment</th>\n",
       "      <th>Basis_of_classification</th>\n",
       "    </tr>\n",
       "  </thead>\n",
       "  <tbody>\n",
       "    <tr>\n",
       "      <th>5923</th>\n",
       "      <td>modi_f6548f1b161be16495c728b547055962.jpg</td>\n",
       "      <td>https://i.pinimg.com/originals/f6/54/8f/f6548f...</td>\n",
       "      <td>WhatsAppText.com I need 'Add Mitro' button THI...</td>\n",
       "      <td></td>\n",
       "      <td>very_funny</td>\n",
       "      <td>not_sarcastic</td>\n",
       "      <td>not_offensive</td>\n",
       "      <td>not_motivational</td>\n",
       "      <td>positive</td>\n",
       "      <td>NaN</td>\n",
       "    </tr>\n",
       "  </tbody>\n",
       "</table>\n",
       "</div>"
      ],
      "text/plain": [
       "                                     image_name  \\\n",
       "5923  modi_f6548f1b161be16495c728b547055962.jpg   \n",
       "\n",
       "                                              Image_URL  \\\n",
       "5923  https://i.pinimg.com/originals/f6/54/8f/f6548f...   \n",
       "\n",
       "                                     OCR_extracted_text Corrected_text  \\\n",
       "5923  WhatsAppText.com I need 'Add Mitro' button THI...                  \n",
       "\n",
       "          Humour        Sarcasm        Offense        Motivation  \\\n",
       "5923  very_funny  not_sarcastic  not_offensive  not_motivational   \n",
       "\n",
       "     Overall_sentiment  Basis_of_classification  \n",
       "5923          positive                      NaN  "
      ]
     },
     "execution_count": 48,
     "metadata": {},
     "output_type": "execute_result"
    }
   ],
   "source": [
    "train[train['Corrected_text'] == '']"
   ]
  },
  {
   "cell_type": "code",
   "execution_count": 49,
   "metadata": {},
   "outputs": [
    {
     "name": "stdout",
     "output_type": "stream",
     "text": [
      "I need 'Add Mitro' button THIS PICTURE WAS TWEETED BY @MEAIndia\n"
     ]
    }
   ],
   "source": [
    "import re\n",
    "\n",
    "corrected_text = train.loc[5923, \"OCR_extracted_text\"]\n",
    "corrected_text = re.sub(url_regex, '', corrected_text, flags=re.IGNORECASE)\n",
    "corrected_text = re.sub(copyright_regex, '', corrected_text, flags=re.IGNORECASE)\n",
    "corrected_text = corrected_text.strip()\n",
    "print(corrected_text)\n",
    "train.loc[5923, \"Corrected_text\"] = corrected_text"
   ]
  },
  {
   "cell_type": "code",
   "execution_count": 50,
   "metadata": {},
   "outputs": [],
   "source": [
    "train.to_csv(\"../../data/train_url_cleaned.csv\", index=False)"
   ]
  },
  {
   "cell_type": "markdown",
   "metadata": {},
   "source": [
    "#### Dev dataset"
   ]
  },
  {
   "cell_type": "code",
   "execution_count": 51,
   "metadata": {},
   "outputs": [],
   "source": [
    "dev.Corrected_text = dev.Corrected_text.replace(url_regex, '', regex=True)\n",
    "dev.Corrected_text = dev.Corrected_text.replace(copyright_regex, '', regex=True)\n",
    "dev.Corrected_text = dev.Corrected_text.str.strip()"
   ]
  },
  {
   "cell_type": "code",
   "execution_count": 52,
   "metadata": {},
   "outputs": [
    {
     "data": {
      "text/html": [
       "<div>\n",
       "<style scoped>\n",
       "    .dataframe tbody tr th:only-of-type {\n",
       "        vertical-align: middle;\n",
       "    }\n",
       "\n",
       "    .dataframe tbody tr th {\n",
       "        vertical-align: top;\n",
       "    }\n",
       "\n",
       "    .dataframe thead th {\n",
       "        text-align: right;\n",
       "    }\n",
       "</style>\n",
       "<table border=\"1\" class=\"dataframe\">\n",
       "  <thead>\n",
       "    <tr style=\"text-align: right;\">\n",
       "      <th></th>\n",
       "      <th>image_name</th>\n",
       "      <th>Image_URL</th>\n",
       "      <th>OCR_extracted_text</th>\n",
       "      <th>Corrected_text</th>\n",
       "      <th>Humour</th>\n",
       "      <th>Sarcasm</th>\n",
       "      <th>Offense</th>\n",
       "      <th>Motivation</th>\n",
       "      <th>Overall_sentiment</th>\n",
       "      <th>Basis_of_classification</th>\n",
       "    </tr>\n",
       "  </thead>\n",
       "  <tbody>\n",
       "  </tbody>\n",
       "</table>\n",
       "</div>"
      ],
      "text/plain": [
       "Empty DataFrame\n",
       "Columns: [image_name, Image_URL, OCR_extracted_text, Corrected_text, Humour, Sarcasm, Offense, Motivation, Overall_sentiment, Basis_of_classification]\n",
       "Index: []"
      ]
     },
     "execution_count": 52,
     "metadata": {},
     "output_type": "execute_result"
    }
   ],
   "source": [
    "dev[dev['Corrected_text'] == '']"
   ]
  },
  {
   "cell_type": "code",
   "execution_count": 53,
   "metadata": {},
   "outputs": [],
   "source": [
    "dev.to_csv(\"../../data/dev_url_cleaned.csv\", index=False)"
   ]
  },
  {
   "cell_type": "markdown",
   "metadata": {},
   "source": [
    "#### Test dataset"
   ]
  },
  {
   "cell_type": "code",
   "execution_count": 25,
   "metadata": {},
   "outputs": [],
   "source": [
    "test.Corrected_text = test.Corrected_text.replace(url_regex, '', regex=True)\n",
    "test.Corrected_text = test.Corrected_text.replace(copyright_regex, '', regex=True)\n",
    "test.Corrected_text = test.Corrected_text.str.strip()"
   ]
  },
  {
   "cell_type": "code",
   "execution_count": 26,
   "metadata": {},
   "outputs": [
    {
     "data": {
      "text/html": [
       "<div>\n",
       "<style scoped>\n",
       "    .dataframe tbody tr th:only-of-type {\n",
       "        vertical-align: middle;\n",
       "    }\n",
       "\n",
       "    .dataframe tbody tr th {\n",
       "        vertical-align: top;\n",
       "    }\n",
       "\n",
       "    .dataframe thead th {\n",
       "        text-align: right;\n",
       "    }\n",
       "</style>\n",
       "<table border=\"1\" class=\"dataframe\">\n",
       "  <thead>\n",
       "    <tr style=\"text-align: right;\">\n",
       "      <th></th>\n",
       "      <th>image_name</th>\n",
       "      <th>Image_URL</th>\n",
       "      <th>OCR_extracted_text</th>\n",
       "      <th>Corrected_text</th>\n",
       "    </tr>\n",
       "  </thead>\n",
       "  <tbody>\n",
       "    <tr>\n",
       "      <th>1815</th>\n",
       "      <td>trump_Melania-Trump-memes-784x441.jpg</td>\n",
       "      <td>https://st1.latestly.com/wp-content/uploads/20...</td>\n",
       "      <td>NaN</td>\n",
       "      <td></td>\n",
       "    </tr>\n",
       "  </tbody>\n",
       "</table>\n",
       "</div>"
      ],
      "text/plain": [
       "                                 image_name  \\\n",
       "1815  trump_Melania-Trump-memes-784x441.jpg   \n",
       "\n",
       "                                              Image_URL OCR_extracted_text  \\\n",
       "1815  https://st1.latestly.com/wp-content/uploads/20...                NaN   \n",
       "\n",
       "     Corrected_text  \n",
       "1815                 "
      ]
     },
     "execution_count": 26,
     "metadata": {},
     "output_type": "execute_result"
    }
   ],
   "source": [
    "test[test['Corrected_text'] == '']"
   ]
  },
  {
   "cell_type": "code",
   "execution_count": 27,
   "metadata": {},
   "outputs": [],
   "source": [
    "test.to_csv(\"../../data/test_cleaned_final.csv\", index=False)"
   ]
  },
  {
   "cell_type": "markdown",
   "metadata": {},
   "source": [
    "### Update overall sentiment"
   ]
  },
  {
   "cell_type": "markdown",
   "metadata": {},
   "source": [
    "#### Train dataset"
   ]
  },
  {
   "cell_type": "code",
   "execution_count": 57,
   "metadata": {},
   "outputs": [],
   "source": [
    "train = train.replace({'Overall_sentiment': {\"very_negative\": \"negative\", \"very_positive\": \"positive\"}})"
   ]
  },
  {
   "cell_type": "code",
   "execution_count": 58,
   "metadata": {},
   "outputs": [
    {
     "data": {
      "text/plain": [
       "array(['positive', 'neutral', 'negative'], dtype=object)"
      ]
     },
     "execution_count": 58,
     "metadata": {},
     "output_type": "execute_result"
    }
   ],
   "source": [
    "train.Overall_sentiment.unique()"
   ]
  },
  {
   "cell_type": "markdown",
   "metadata": {},
   "source": [
    "#### Dev dataset"
   ]
  },
  {
   "cell_type": "code",
   "execution_count": 59,
   "metadata": {},
   "outputs": [],
   "source": [
    "dev = dev.replace({'Overall_sentiment': {\"very_negative\": \"negative\", \"very_positive\": \"positive\"}})"
   ]
  },
  {
   "cell_type": "code",
   "execution_count": 60,
   "metadata": {},
   "outputs": [
    {
     "data": {
      "text/plain": [
       "array(['positive', 'negative', 'neutral'], dtype=object)"
      ]
     },
     "execution_count": 60,
     "metadata": {},
     "output_type": "execute_result"
    }
   ],
   "source": [
    "dev.Overall_sentiment.unique()"
   ]
  },
  {
   "cell_type": "markdown",
   "metadata": {},
   "source": [
    "### Add binary labels for humor, sarcasm and offensive labels"
   ]
  },
  {
   "cell_type": "markdown",
   "metadata": {},
   "source": [
    "#### Train dataset"
   ]
  },
  {
   "cell_type": "code",
   "execution_count": 61,
   "metadata": {},
   "outputs": [],
   "source": [
    "train[\"Humour_bin\"] = train[\"Humour\"] != \"not_funny\"\n",
    "train[\"Sarcasm_bin\"] = train[\"Sarcasm\"] != \"not_sarcastic\"\n",
    "train[\"Offense_bin\"] = train[\"Offense\"] != \"not_offensive\"\n",
    "train[\"Motivation_bin\"] = train[\"Motivation\"] != \"not_motivational\""
   ]
  },
  {
   "cell_type": "code",
   "execution_count": 62,
   "metadata": {},
   "outputs": [
    {
     "data": {
      "text/html": [
       "<div>\n",
       "<style scoped>\n",
       "    .dataframe tbody tr th:only-of-type {\n",
       "        vertical-align: middle;\n",
       "    }\n",
       "\n",
       "    .dataframe tbody tr th {\n",
       "        vertical-align: top;\n",
       "    }\n",
       "\n",
       "    .dataframe thead th {\n",
       "        text-align: right;\n",
       "    }\n",
       "</style>\n",
       "<table border=\"1\" class=\"dataframe\">\n",
       "  <thead>\n",
       "    <tr style=\"text-align: right;\">\n",
       "      <th></th>\n",
       "      <th>image_name</th>\n",
       "      <th>Image_URL</th>\n",
       "      <th>OCR_extracted_text</th>\n",
       "      <th>Corrected_text</th>\n",
       "      <th>Humour</th>\n",
       "      <th>Sarcasm</th>\n",
       "      <th>Offense</th>\n",
       "      <th>Motivation</th>\n",
       "      <th>Overall_sentiment</th>\n",
       "      <th>Basis_of_classification</th>\n",
       "      <th>Humour_bin</th>\n",
       "      <th>Sarcasm_bin</th>\n",
       "      <th>Offense_bin</th>\n",
       "      <th>Motivation_bin</th>\n",
       "    </tr>\n",
       "  </thead>\n",
       "  <tbody>\n",
       "    <tr>\n",
       "      <th>0</th>\n",
       "      <td>10_year_2r94rv.jpg</td>\n",
       "      <td>https://i.imgflip.com/2r94rv.jpg</td>\n",
       "      <td>LOOK THERE MY FRIEND LIGHTYEAR NOW ALL SOHALIK...</td>\n",
       "      <td>LOOK THERE MY FRIEND LIGHTYEAR NOW ALL SOHALIK...</td>\n",
       "      <td>hilarious</td>\n",
       "      <td>general</td>\n",
       "      <td>not_offensive</td>\n",
       "      <td>not_motivational</td>\n",
       "      <td>positive</td>\n",
       "      <td>NaN</td>\n",
       "      <td>True</td>\n",
       "      <td>True</td>\n",
       "      <td>False</td>\n",
       "      <td>False</td>\n",
       "    </tr>\n",
       "    <tr>\n",
       "      <th>1</th>\n",
       "      <td>10_year_10-year-challenge_1547788782.jpeg</td>\n",
       "      <td>https://spiderimg.amarujala.com/assets/images/...</td>\n",
       "      <td>The best of #10 YearChallenge! Completed in le...</td>\n",
       "      <td>The best of #10 YearChallenge! Completed in le...</td>\n",
       "      <td>not_funny</td>\n",
       "      <td>general</td>\n",
       "      <td>not_offensive</td>\n",
       "      <td>motivational</td>\n",
       "      <td>positive</td>\n",
       "      <td>NaN</td>\n",
       "      <td>False</td>\n",
       "      <td>True</td>\n",
       "      <td>False</td>\n",
       "      <td>True</td>\n",
       "    </tr>\n",
       "    <tr>\n",
       "      <th>2</th>\n",
       "      <td>10_year_10yearchallenge-5c75f8b946e0fb0001edc7...</td>\n",
       "      <td>https://www.lifewire.com/thmb/8wNfd94_meE9X2cp...</td>\n",
       "      <td>Sam Thorne @Strippin ( Follow Follow Saw every...</td>\n",
       "      <td>Sam Thorne @Strippin ( Follow Follow Saw every...</td>\n",
       "      <td>very_funny</td>\n",
       "      <td>not_sarcastic</td>\n",
       "      <td>not_offensive</td>\n",
       "      <td>not_motivational</td>\n",
       "      <td>positive</td>\n",
       "      <td>NaN</td>\n",
       "      <td>True</td>\n",
       "      <td>False</td>\n",
       "      <td>False</td>\n",
       "      <td>False</td>\n",
       "    </tr>\n",
       "    <tr>\n",
       "      <th>3</th>\n",
       "      <td>10_year_10-year-challenge-sweet-dee-edition-40...</td>\n",
       "      <td>https://pics.conservativememes.com/10-year-cha...</td>\n",
       "      <td>10 Year Challenge - Sweet Dee Edition</td>\n",
       "      <td>10 Year Challenge - Sweet Dee Edition</td>\n",
       "      <td>very_funny</td>\n",
       "      <td>twisted_meaning</td>\n",
       "      <td>very_offensive</td>\n",
       "      <td>motivational</td>\n",
       "      <td>positive</td>\n",
       "      <td>NaN</td>\n",
       "      <td>True</td>\n",
       "      <td>True</td>\n",
       "      <td>True</td>\n",
       "      <td>True</td>\n",
       "    </tr>\n",
       "    <tr>\n",
       "      <th>4</th>\n",
       "      <td>10_year_10-year-challenge-with-no-filter-47-hi...</td>\n",
       "      <td>https://pics.me.me/10-year-challenge-with-no-f...</td>\n",
       "      <td>10 YEAR CHALLENGE WITH NO FILTER 47 Hilarious ...</td>\n",
       "      <td>10 YEAR CHALLENGE WITH NO FILTER 47 Hilarious ...</td>\n",
       "      <td>hilarious</td>\n",
       "      <td>very_twisted</td>\n",
       "      <td>very_offensive</td>\n",
       "      <td>not_motivational</td>\n",
       "      <td>neutral</td>\n",
       "      <td>NaN</td>\n",
       "      <td>True</td>\n",
       "      <td>True</td>\n",
       "      <td>True</td>\n",
       "      <td>False</td>\n",
       "    </tr>\n",
       "    <tr>\n",
       "      <th>...</th>\n",
       "      <td>...</td>\n",
       "      <td>...</td>\n",
       "      <td>...</td>\n",
       "      <td>...</td>\n",
       "      <td>...</td>\n",
       "      <td>...</td>\n",
       "      <td>...</td>\n",
       "      <td>...</td>\n",
       "      <td>...</td>\n",
       "      <td>...</td>\n",
       "      <td>...</td>\n",
       "      <td>...</td>\n",
       "      <td>...</td>\n",
       "      <td>...</td>\n",
       "    </tr>\n",
       "    <tr>\n",
       "      <th>6995</th>\n",
       "      <td>best_2017_d2fe668a7ff9227fbb604927de025311.jpg</td>\n",
       "      <td>https://i.pinimg.com/345x/d2/fe/66/d2fe668a7ff...</td>\n",
       "      <td>Tuesday is Mardi Gras Wednesday is Valentine's...</td>\n",
       "      <td>Tuesday is Mardi Gras Wednesday is Valentine's...</td>\n",
       "      <td>very_funny</td>\n",
       "      <td>twisted_meaning</td>\n",
       "      <td>very_offensive</td>\n",
       "      <td>motivational</td>\n",
       "      <td>neutral</td>\n",
       "      <td>NaN</td>\n",
       "      <td>True</td>\n",
       "      <td>True</td>\n",
       "      <td>True</td>\n",
       "      <td>True</td>\n",
       "    </tr>\n",
       "    <tr>\n",
       "      <th>6996</th>\n",
       "      <td>best_2017_DR9DnutV4AYK-Pc.jpg</td>\n",
       "      <td>https://pbs.twimg.com/media/DR9DnutV4AYK-Pc.jpg</td>\n",
       "      <td>MUST WATCH MOVIES OF 2017 ITI Chennai memes MA...</td>\n",
       "      <td>MUST WATCH MOVIES OF 2017 ITI Chennai memes MA...</td>\n",
       "      <td>funny</td>\n",
       "      <td>twisted_meaning</td>\n",
       "      <td>not_offensive</td>\n",
       "      <td>not_motivational</td>\n",
       "      <td>neutral</td>\n",
       "      <td>NaN</td>\n",
       "      <td>True</td>\n",
       "      <td>True</td>\n",
       "      <td>False</td>\n",
       "      <td>False</td>\n",
       "    </tr>\n",
       "    <tr>\n",
       "      <th>6997</th>\n",
       "      <td>best_2017_less-more-talking-listening-planning...</td>\n",
       "      <td>https://pics.ballmemes.com/less-more-talking-l...</td>\n",
       "      <td>LESS MORE TALKING PLANNING SODA JUNK FOOD COMP...</td>\n",
       "      <td>LESS MORE TALKING PLANNING SODA JUNK FOOD COMP...</td>\n",
       "      <td>funny</td>\n",
       "      <td>general</td>\n",
       "      <td>slight</td>\n",
       "      <td>not_motivational</td>\n",
       "      <td>positive</td>\n",
       "      <td>NaN</td>\n",
       "      <td>True</td>\n",
       "      <td>True</td>\n",
       "      <td>True</td>\n",
       "      <td>False</td>\n",
       "    </tr>\n",
       "    <tr>\n",
       "      <th>6998</th>\n",
       "      <td>best_2017_make-time.jpg</td>\n",
       "      <td>https://arhtisticlicense.files.wordpress.com/2...</td>\n",
       "      <td>When I VERY have time is a fantasy No one has ...</td>\n",
       "      <td>When I have time is a fantasy. no one has time...</td>\n",
       "      <td>not_funny</td>\n",
       "      <td>twisted_meaning</td>\n",
       "      <td>not_offensive</td>\n",
       "      <td>motivational</td>\n",
       "      <td>positive</td>\n",
       "      <td>NaN</td>\n",
       "      <td>False</td>\n",
       "      <td>True</td>\n",
       "      <td>False</td>\n",
       "      <td>True</td>\n",
       "    </tr>\n",
       "    <tr>\n",
       "      <th>6999</th>\n",
       "      <td>best_2017_what-if.jpg</td>\n",
       "      <td>https://arhtisticlicense.files.wordpress.com/2...</td>\n",
       "      <td>The starting point for every good idea is What...</td>\n",
       "      <td>The starting point for every good idea is What...</td>\n",
       "      <td>not_funny</td>\n",
       "      <td>not_sarcastic</td>\n",
       "      <td>not_offensive</td>\n",
       "      <td>motivational</td>\n",
       "      <td>positive</td>\n",
       "      <td>NaN</td>\n",
       "      <td>False</td>\n",
       "      <td>False</td>\n",
       "      <td>False</td>\n",
       "      <td>True</td>\n",
       "    </tr>\n",
       "  </tbody>\n",
       "</table>\n",
       "<p>6999 rows × 14 columns</p>\n",
       "</div>"
      ],
      "text/plain": [
       "                                             image_name  \\\n",
       "0                                    10_year_2r94rv.jpg   \n",
       "1             10_year_10-year-challenge_1547788782.jpeg   \n",
       "2     10_year_10yearchallenge-5c75f8b946e0fb0001edc7...   \n",
       "3     10_year_10-year-challenge-sweet-dee-edition-40...   \n",
       "4     10_year_10-year-challenge-with-no-filter-47-hi...   \n",
       "...                                                 ...   \n",
       "6995     best_2017_d2fe668a7ff9227fbb604927de025311.jpg   \n",
       "6996                      best_2017_DR9DnutV4AYK-Pc.jpg   \n",
       "6997  best_2017_less-more-talking-listening-planning...   \n",
       "6998                            best_2017_make-time.jpg   \n",
       "6999                              best_2017_what-if.jpg   \n",
       "\n",
       "                                              Image_URL  \\\n",
       "0                      https://i.imgflip.com/2r94rv.jpg   \n",
       "1     https://spiderimg.amarujala.com/assets/images/...   \n",
       "2     https://www.lifewire.com/thmb/8wNfd94_meE9X2cp...   \n",
       "3     https://pics.conservativememes.com/10-year-cha...   \n",
       "4     https://pics.me.me/10-year-challenge-with-no-f...   \n",
       "...                                                 ...   \n",
       "6995  https://i.pinimg.com/345x/d2/fe/66/d2fe668a7ff...   \n",
       "6996    https://pbs.twimg.com/media/DR9DnutV4AYK-Pc.jpg   \n",
       "6997  https://pics.ballmemes.com/less-more-talking-l...   \n",
       "6998  https://arhtisticlicense.files.wordpress.com/2...   \n",
       "6999  https://arhtisticlicense.files.wordpress.com/2...   \n",
       "\n",
       "                                     OCR_extracted_text  \\\n",
       "0     LOOK THERE MY FRIEND LIGHTYEAR NOW ALL SOHALIK...   \n",
       "1     The best of #10 YearChallenge! Completed in le...   \n",
       "2     Sam Thorne @Strippin ( Follow Follow Saw every...   \n",
       "3                10 Year Challenge - Sweet Dee Edition    \n",
       "4     10 YEAR CHALLENGE WITH NO FILTER 47 Hilarious ...   \n",
       "...                                                 ...   \n",
       "6995  Tuesday is Mardi Gras Wednesday is Valentine's...   \n",
       "6996  MUST WATCH MOVIES OF 2017 ITI Chennai memes MA...   \n",
       "6997  LESS MORE TALKING PLANNING SODA JUNK FOOD COMP...   \n",
       "6998  When I VERY have time is a fantasy No one has ...   \n",
       "6999  The starting point for every good idea is What...   \n",
       "\n",
       "                                         Corrected_text      Humour  \\\n",
       "0     LOOK THERE MY FRIEND LIGHTYEAR NOW ALL SOHALIK...   hilarious   \n",
       "1     The best of #10 YearChallenge! Completed in le...   not_funny   \n",
       "2     Sam Thorne @Strippin ( Follow Follow Saw every...  very_funny   \n",
       "3                 10 Year Challenge - Sweet Dee Edition  very_funny   \n",
       "4     10 YEAR CHALLENGE WITH NO FILTER 47 Hilarious ...   hilarious   \n",
       "...                                                 ...         ...   \n",
       "6995  Tuesday is Mardi Gras Wednesday is Valentine's...  very_funny   \n",
       "6996  MUST WATCH MOVIES OF 2017 ITI Chennai memes MA...       funny   \n",
       "6997  LESS MORE TALKING PLANNING SODA JUNK FOOD COMP...       funny   \n",
       "6998  When I have time is a fantasy. no one has time...   not_funny   \n",
       "6999  The starting point for every good idea is What...   not_funny   \n",
       "\n",
       "              Sarcasm         Offense        Motivation Overall_sentiment  \\\n",
       "0             general   not_offensive  not_motivational          positive   \n",
       "1             general   not_offensive      motivational          positive   \n",
       "2       not_sarcastic   not_offensive  not_motivational          positive   \n",
       "3     twisted_meaning  very_offensive      motivational          positive   \n",
       "4        very_twisted  very_offensive  not_motivational           neutral   \n",
       "...               ...             ...               ...               ...   \n",
       "6995  twisted_meaning  very_offensive      motivational           neutral   \n",
       "6996  twisted_meaning   not_offensive  not_motivational           neutral   \n",
       "6997          general          slight  not_motivational          positive   \n",
       "6998  twisted_meaning   not_offensive      motivational          positive   \n",
       "6999    not_sarcastic   not_offensive      motivational          positive   \n",
       "\n",
       "      Basis_of_classification  Humour_bin  Sarcasm_bin  Offense_bin  \\\n",
       "0                         NaN        True         True        False   \n",
       "1                         NaN       False         True        False   \n",
       "2                         NaN        True        False        False   \n",
       "3                         NaN        True         True         True   \n",
       "4                         NaN        True         True         True   \n",
       "...                       ...         ...          ...          ...   \n",
       "6995                      NaN        True         True         True   \n",
       "6996                      NaN        True         True        False   \n",
       "6997                      NaN        True         True         True   \n",
       "6998                      NaN       False         True        False   \n",
       "6999                      NaN       False        False        False   \n",
       "\n",
       "      Motivation_bin  \n",
       "0              False  \n",
       "1               True  \n",
       "2              False  \n",
       "3               True  \n",
       "4              False  \n",
       "...              ...  \n",
       "6995            True  \n",
       "6996           False  \n",
       "6997           False  \n",
       "6998            True  \n",
       "6999            True  \n",
       "\n",
       "[6999 rows x 14 columns]"
      ]
     },
     "execution_count": 62,
     "metadata": {},
     "output_type": "execute_result"
    }
   ],
   "source": [
    "train"
   ]
  },
  {
   "cell_type": "code",
   "execution_count": 63,
   "metadata": {},
   "outputs": [],
   "source": [
    "train.to_csv(\"{}train_cleaned_final.csv\".format(data_folder), index=False)"
   ]
  },
  {
   "cell_type": "markdown",
   "metadata": {},
   "source": [
    "#### Dev dataset"
   ]
  },
  {
   "cell_type": "code",
   "execution_count": 64,
   "metadata": {},
   "outputs": [],
   "source": [
    "dev[\"Humour_bin\"] = dev[\"Humour\"] != \"not_funny\"\n",
    "dev[\"Sarcasm_bin\"] = dev[\"Sarcasm\"] != \"not_sarcastic\"\n",
    "dev[\"Offense_bin\"] = dev[\"Offense\"] != \"not_offensive\"\n",
    "dev[\"Motivation_bin\"] = dev[\"Motivation\"] != \"not_motivational\""
   ]
  },
  {
   "cell_type": "code",
   "execution_count": 65,
   "metadata": {},
   "outputs": [
    {
     "data": {
      "text/html": [
       "<div>\n",
       "<style scoped>\n",
       "    .dataframe tbody tr th:only-of-type {\n",
       "        vertical-align: middle;\n",
       "    }\n",
       "\n",
       "    .dataframe tbody tr th {\n",
       "        vertical-align: top;\n",
       "    }\n",
       "\n",
       "    .dataframe thead th {\n",
       "        text-align: right;\n",
       "    }\n",
       "</style>\n",
       "<table border=\"1\" class=\"dataframe\">\n",
       "  <thead>\n",
       "    <tr style=\"text-align: right;\">\n",
       "      <th></th>\n",
       "      <th>image_name</th>\n",
       "      <th>Image_URL</th>\n",
       "      <th>OCR_extracted_text</th>\n",
       "      <th>Corrected_text</th>\n",
       "      <th>Humour</th>\n",
       "      <th>Sarcasm</th>\n",
       "      <th>Offense</th>\n",
       "      <th>Motivation</th>\n",
       "      <th>Overall_sentiment</th>\n",
       "      <th>Basis_of_classification</th>\n",
       "      <th>Humour_bin</th>\n",
       "      <th>Sarcasm_bin</th>\n",
       "      <th>Offense_bin</th>\n",
       "      <th>Motivation_bin</th>\n",
       "    </tr>\n",
       "  </thead>\n",
       "  <tbody>\n",
       "    <tr>\n",
       "      <th>0</th>\n",
       "      <td>skeptical_stealing-my-milk.jpg</td>\n",
       "      <td>http://www.relatably.com/m/img/funny-skeptical...</td>\n",
       "      <td>ISAW DAD WITH MOM LASTNIGHT I THINK HE WAS STE...</td>\n",
       "      <td>ISAW DAD WITH MOM LASTNIGHT I THINK HE WAS STE...</td>\n",
       "      <td>very_funny</td>\n",
       "      <td>general</td>\n",
       "      <td>hateful_offensive</td>\n",
       "      <td>not_motivational</td>\n",
       "      <td>positive</td>\n",
       "      <td>image_and_text</td>\n",
       "      <td>True</td>\n",
       "      <td>True</td>\n",
       "      <td>True</td>\n",
       "      <td>False</td>\n",
       "    </tr>\n",
       "    <tr>\n",
       "      <th>1</th>\n",
       "      <td>skeptical_breathing+if+she+has+my+nose.jpg</td>\n",
       "      <td>http://1.bp.blogspot.com/-g0E1yGCghCI/T68yJ1Oj...</td>\n",
       "      <td>HOW AM I STILL BREATHING IF SHE HAS MY NOSE? q...</td>\n",
       "      <td>HOW AM I STILL BREATHING IF SHE HAS MY NOSE?</td>\n",
       "      <td>funny</td>\n",
       "      <td>general</td>\n",
       "      <td>not_offensive</td>\n",
       "      <td>motivational</td>\n",
       "      <td>negative</td>\n",
       "      <td>image</td>\n",
       "      <td>True</td>\n",
       "      <td>True</td>\n",
       "      <td>False</td>\n",
       "      <td>True</td>\n",
       "    </tr>\n",
       "    <tr>\n",
       "      <th>2</th>\n",
       "      <td>skeptical_603b3553d88441537f6c65abac8a1cec.jpg</td>\n",
       "      <td>https://i.pinimg.com/736x/60/3b/35/603b3553d88...</td>\n",
       "      <td>YOU MEAN TO TELL ME BIGG BOSSIS BETTER THAN KB...</td>\n",
       "      <td>YOU MEAN TO TELL ME BIGG BOSSIS BETTER THAN KB...</td>\n",
       "      <td>not_funny</td>\n",
       "      <td>not_sarcastic</td>\n",
       "      <td>not_offensive</td>\n",
       "      <td>not_motivational</td>\n",
       "      <td>neutral</td>\n",
       "      <td>image_and_text</td>\n",
       "      <td>False</td>\n",
       "      <td>False</td>\n",
       "      <td>False</td>\n",
       "      <td>False</td>\n",
       "    </tr>\n",
       "    <tr>\n",
       "      <th>3</th>\n",
       "      <td>skeptical_e17ae5f069b21df5599460939047d4ae8db9...</td>\n",
       "      <td>http://www.quickmeme.com/img/e1/e17ae5f069b21d...</td>\n",
       "      <td>MY SHARE OF THE NATIONAL DEBT IS HOW MUCHP qui...</td>\n",
       "      <td>MY SHARE OF THE NATIONAL DEBT IS HOW MUCH?</td>\n",
       "      <td>funny</td>\n",
       "      <td>general</td>\n",
       "      <td>slight</td>\n",
       "      <td>not_motivational</td>\n",
       "      <td>positive</td>\n",
       "      <td>image_and_text</td>\n",
       "      <td>True</td>\n",
       "      <td>True</td>\n",
       "      <td>True</td>\n",
       "      <td>False</td>\n",
       "    </tr>\n",
       "    <tr>\n",
       "      <th>4</th>\n",
       "      <td>skeptical_75c34fa1-4d2b-45c1-9bda-5ff0f15d241e...</td>\n",
       "      <td>http://cdn.funnyisms.com/75c34fa1-4d2b-45c1-9b...</td>\n",
       "      <td>WAIT A SECOND BILLA AM I SKEPTICAL BABY GROWN ...</td>\n",
       "      <td>WAIT A SECOND BILLA AM I SKEPTICAL BABY GROWN ...</td>\n",
       "      <td>funny</td>\n",
       "      <td>twisted_meaning</td>\n",
       "      <td>slight</td>\n",
       "      <td>not_motivational</td>\n",
       "      <td>neutral</td>\n",
       "      <td>image_and_text</td>\n",
       "      <td>True</td>\n",
       "      <td>True</td>\n",
       "      <td>True</td>\n",
       "      <td>False</td>\n",
       "    </tr>\n",
       "    <tr>\n",
       "      <th>...</th>\n",
       "      <td>...</td>\n",
       "      <td>...</td>\n",
       "      <td>...</td>\n",
       "      <td>...</td>\n",
       "      <td>...</td>\n",
       "      <td>...</td>\n",
       "      <td>...</td>\n",
       "      <td>...</td>\n",
       "      <td>...</td>\n",
       "      <td>...</td>\n",
       "      <td>...</td>\n",
       "      <td>...</td>\n",
       "      <td>...</td>\n",
       "      <td>...</td>\n",
       "    </tr>\n",
       "    <tr>\n",
       "      <th>995</th>\n",
       "      <td>cat_U_367best-funny-cat-memes.jpg</td>\n",
       "      <td>https://cdn3-www.cattime.com/assets/uploads/ga...</td>\n",
       "      <td>I love you lamp Shut up</td>\n",
       "      <td>I love you lamp Shut up</td>\n",
       "      <td>hilarious</td>\n",
       "      <td>general</td>\n",
       "      <td>hateful_offensive</td>\n",
       "      <td>motivational</td>\n",
       "      <td>positive</td>\n",
       "      <td>image_and_text</td>\n",
       "      <td>True</td>\n",
       "      <td>True</td>\n",
       "      <td>True</td>\n",
       "      <td>True</td>\n",
       "    </tr>\n",
       "    <tr>\n",
       "      <th>996</th>\n",
       "      <td>cat_U_111curious_cat_happy_birthday_cat_meme1.jpg</td>\n",
       "      <td>https://www.wishesgreeting.com/wp-content/uplo...</td>\n",
       "      <td>I GOT YOU A PRESENT FOR YOUR BIRTHDAY IT'S IN ...</td>\n",
       "      <td>I GOT YOU A PRESENT FOR YOUR BIRTHDAY IT'S IN ...</td>\n",
       "      <td>funny</td>\n",
       "      <td>general</td>\n",
       "      <td>slight</td>\n",
       "      <td>motivational</td>\n",
       "      <td>positive</td>\n",
       "      <td>image</td>\n",
       "      <td>True</td>\n",
       "      <td>True</td>\n",
       "      <td>True</td>\n",
       "      <td>True</td>\n",
       "    </tr>\n",
       "    <tr>\n",
       "      <th>997</th>\n",
       "      <td>cat_U_260meme27.png</td>\n",
       "      <td>https://catsareontop.com/wp-content/uploads/20...</td>\n",
       "      <td>WHAT IF THE HUMAN IS NOT MY PET BUT I'M HIS</td>\n",
       "      <td>WHAT IF THE HUMAN IS NOT MY PET BUT I'M HIS</td>\n",
       "      <td>funny</td>\n",
       "      <td>general</td>\n",
       "      <td>very_offensive</td>\n",
       "      <td>not_motivational</td>\n",
       "      <td>positive</td>\n",
       "      <td>image_and_text</td>\n",
       "      <td>True</td>\n",
       "      <td>True</td>\n",
       "      <td>True</td>\n",
       "      <td>False</td>\n",
       "    </tr>\n",
       "    <tr>\n",
       "      <th>998</th>\n",
       "      <td>cat_U_314Evil-Cat-Memes-Photos.png</td>\n",
       "      <td>https://www.catbreedselector.com/wp-content/up...</td>\n",
       "      <td>WOW! NEW SOFA I'LL SHOW NO MERCY CatBreed Sele...</td>\n",
       "      <td>WOW! NEW SOFA I'LL SHOW NO MERCY CatBreed  f C...</td>\n",
       "      <td>very_funny</td>\n",
       "      <td>twisted_meaning</td>\n",
       "      <td>very_offensive</td>\n",
       "      <td>not_motivational</td>\n",
       "      <td>positive</td>\n",
       "      <td>image_and_text</td>\n",
       "      <td>True</td>\n",
       "      <td>True</td>\n",
       "      <td>True</td>\n",
       "      <td>False</td>\n",
       "    </tr>\n",
       "    <tr>\n",
       "      <th>999</th>\n",
       "      <td>cat_U_271incredulous-cat-human-your-tail-is-on...</td>\n",
       "      <td>http://weknowmemes.com/wp-content/uploads/2012...</td>\n",
       "      <td>HUMAN YOUR TAIL IS ON BACKWARDS zipmeme</td>\n",
       "      <td>HUMAN YOUR TAIL IS ON BACKWARDS zipmeme</td>\n",
       "      <td>funny</td>\n",
       "      <td>general</td>\n",
       "      <td>slight</td>\n",
       "      <td>not_motivational</td>\n",
       "      <td>positive</td>\n",
       "      <td>image_and_text</td>\n",
       "      <td>True</td>\n",
       "      <td>True</td>\n",
       "      <td>True</td>\n",
       "      <td>False</td>\n",
       "    </tr>\n",
       "  </tbody>\n",
       "</table>\n",
       "<p>1000 rows × 14 columns</p>\n",
       "</div>"
      ],
      "text/plain": [
       "                                            image_name  \\\n",
       "0                       skeptical_stealing-my-milk.jpg   \n",
       "1           skeptical_breathing+if+she+has+my+nose.jpg   \n",
       "2       skeptical_603b3553d88441537f6c65abac8a1cec.jpg   \n",
       "3    skeptical_e17ae5f069b21df5599460939047d4ae8db9...   \n",
       "4    skeptical_75c34fa1-4d2b-45c1-9bda-5ff0f15d241e...   \n",
       "..                                                 ...   \n",
       "995                  cat_U_367best-funny-cat-memes.jpg   \n",
       "996  cat_U_111curious_cat_happy_birthday_cat_meme1.jpg   \n",
       "997                                cat_U_260meme27.png   \n",
       "998                 cat_U_314Evil-Cat-Memes-Photos.png   \n",
       "999  cat_U_271incredulous-cat-human-your-tail-is-on...   \n",
       "\n",
       "                                             Image_URL  \\\n",
       "0    http://www.relatably.com/m/img/funny-skeptical...   \n",
       "1    http://1.bp.blogspot.com/-g0E1yGCghCI/T68yJ1Oj...   \n",
       "2    https://i.pinimg.com/736x/60/3b/35/603b3553d88...   \n",
       "3    http://www.quickmeme.com/img/e1/e17ae5f069b21d...   \n",
       "4    http://cdn.funnyisms.com/75c34fa1-4d2b-45c1-9b...   \n",
       "..                                                 ...   \n",
       "995  https://cdn3-www.cattime.com/assets/uploads/ga...   \n",
       "996  https://www.wishesgreeting.com/wp-content/uplo...   \n",
       "997  https://catsareontop.com/wp-content/uploads/20...   \n",
       "998  https://www.catbreedselector.com/wp-content/up...   \n",
       "999  http://weknowmemes.com/wp-content/uploads/2012...   \n",
       "\n",
       "                                    OCR_extracted_text  \\\n",
       "0    ISAW DAD WITH MOM LASTNIGHT I THINK HE WAS STE...   \n",
       "1    HOW AM I STILL BREATHING IF SHE HAS MY NOSE? q...   \n",
       "2    YOU MEAN TO TELL ME BIGG BOSSIS BETTER THAN KB...   \n",
       "3    MY SHARE OF THE NATIONAL DEBT IS HOW MUCHP qui...   \n",
       "4    WAIT A SECOND BILLA AM I SKEPTICAL BABY GROWN ...   \n",
       "..                                                 ...   \n",
       "995                           I love you lamp Shut up    \n",
       "996  I GOT YOU A PRESENT FOR YOUR BIRTHDAY IT'S IN ...   \n",
       "997       WHAT IF THE HUMAN IS NOT MY PET BUT I'M HIS    \n",
       "998  WOW! NEW SOFA I'LL SHOW NO MERCY CatBreed Sele...   \n",
       "999           HUMAN YOUR TAIL IS ON BACKWARDS zipmeme    \n",
       "\n",
       "                                        Corrected_text      Humour  \\\n",
       "0    ISAW DAD WITH MOM LASTNIGHT I THINK HE WAS STE...  very_funny   \n",
       "1         HOW AM I STILL BREATHING IF SHE HAS MY NOSE?       funny   \n",
       "2    YOU MEAN TO TELL ME BIGG BOSSIS BETTER THAN KB...   not_funny   \n",
       "3           MY SHARE OF THE NATIONAL DEBT IS HOW MUCH?       funny   \n",
       "4    WAIT A SECOND BILLA AM I SKEPTICAL BABY GROWN ...       funny   \n",
       "..                                                 ...         ...   \n",
       "995                            I love you lamp Shut up   hilarious   \n",
       "996  I GOT YOU A PRESENT FOR YOUR BIRTHDAY IT'S IN ...       funny   \n",
       "997        WHAT IF THE HUMAN IS NOT MY PET BUT I'M HIS       funny   \n",
       "998  WOW! NEW SOFA I'LL SHOW NO MERCY CatBreed  f C...  very_funny   \n",
       "999            HUMAN YOUR TAIL IS ON BACKWARDS zipmeme       funny   \n",
       "\n",
       "             Sarcasm            Offense        Motivation Overall_sentiment  \\\n",
       "0            general  hateful_offensive  not_motivational          positive   \n",
       "1            general      not_offensive      motivational          negative   \n",
       "2      not_sarcastic      not_offensive  not_motivational           neutral   \n",
       "3            general             slight  not_motivational          positive   \n",
       "4    twisted_meaning             slight  not_motivational           neutral   \n",
       "..               ...                ...               ...               ...   \n",
       "995          general  hateful_offensive      motivational          positive   \n",
       "996          general             slight      motivational          positive   \n",
       "997          general     very_offensive  not_motivational          positive   \n",
       "998  twisted_meaning     very_offensive  not_motivational          positive   \n",
       "999          general             slight  not_motivational          positive   \n",
       "\n",
       "    Basis_of_classification  Humour_bin  Sarcasm_bin  Offense_bin  \\\n",
       "0           image_and_text         True         True         True   \n",
       "1                     image        True         True        False   \n",
       "2           image_and_text        False        False        False   \n",
       "3           image_and_text         True         True         True   \n",
       "4           image_and_text         True         True         True   \n",
       "..                      ...         ...          ...          ...   \n",
       "995         image_and_text         True         True         True   \n",
       "996                   image        True         True         True   \n",
       "997         image_and_text         True         True         True   \n",
       "998         image_and_text         True         True         True   \n",
       "999         image_and_text         True         True         True   \n",
       "\n",
       "     Motivation_bin  \n",
       "0             False  \n",
       "1              True  \n",
       "2             False  \n",
       "3             False  \n",
       "4             False  \n",
       "..              ...  \n",
       "995            True  \n",
       "996            True  \n",
       "997           False  \n",
       "998           False  \n",
       "999           False  \n",
       "\n",
       "[1000 rows x 14 columns]"
      ]
     },
     "execution_count": 65,
     "metadata": {},
     "output_type": "execute_result"
    }
   ],
   "source": [
    "dev"
   ]
  },
  {
   "cell_type": "code",
   "execution_count": 66,
   "metadata": {},
   "outputs": [],
   "source": [
    "dev.to_csv(\"{}dev_cleaned_final.csv\".format(data_folder), index=False)"
   ]
  },
  {
   "cell_type": "code",
   "execution_count": null,
   "metadata": {},
   "outputs": [],
   "source": []
  }
 ],
 "metadata": {
  "kernelspec": {
   "display_name": "Python 3",
   "language": "python",
   "name": "python3"
  },
  "language_info": {
   "codemirror_mode": {
    "name": "ipython",
    "version": 3
   },
   "file_extension": ".py",
   "mimetype": "text/x-python",
   "name": "python",
   "nbconvert_exporter": "python",
   "pygments_lexer": "ipython3",
   "version": "3.6.8"
  },
  "pycharm": {
   "stem_cell": {
    "cell_type": "raw",
    "metadata": {
     "collapsed": false
    },
    "source": []
   }
  }
 },
 "nbformat": 4,
 "nbformat_minor": 2
}
