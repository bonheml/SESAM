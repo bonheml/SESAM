{
 "cells": [
  {
   "cell_type": "markdown",
   "metadata": {},
   "source": [
    "# Feature extraction"
   ]
  },
  {
   "cell_type": "markdown",
   "metadata": {},
   "source": [
    "## Image vectorisation\n",
    "Images are vectorised using the penultimate layer of Keras Xception model <cite data-cite=\"chollet2017\">(Chollet, 2013)</cite> pre-trained on imagenet <cite data-cite=\"deng2009\">(Deng et al., 2009)</cite>.\n"
   ]
  },
  {
   "cell_type": "code",
   "execution_count": 2,
   "metadata": {
    "pycharm": {
     "name": "#%%\n"
    }
   },
   "outputs": [],
   "source": [
    "from src.preprocessing.preprocess_dataset import extract_all_images, extract_all_sentences\n",
    "from src.utils.files import save_as_pickle, load_pickle_file\n",
    "import pandas as pd"
   ]
  },
  {
   "cell_type": "code",
   "execution_count": 7,
   "metadata": {},
   "outputs": [],
   "source": [
    "def remove_unknown_images(df, embed):\n",
    "    print(\"{} embeddings\".format(len(embed)))\n",
    "    df = pd.read_csv(df, usecols=[\"image_name\"])\n",
    "    img_names = list(embed.keys())\n",
    "    to_remove = list(set(img_names)-set(df[\"image_name\"]))\n",
    "    removed = [embed.pop(key, None) for key in to_remove]\n",
    "    if len(to_remove):\n",
    "        print(\"The following embeddings were removed {}\".format(to_remove))\n",
    "        print(\"{} embeddings remaining\".format(len(embed)))\n",
    "    else:\n",
    "        print(\"Nothing to remove\")\n",
    "    return embed"
   ]
  },
  {
   "cell_type": "code",
   "execution_count": 5,
   "metadata": {
    "pycharm": {
     "name": "#%%\n"
    }
   },
   "outputs": [
    {
     "name": "stderr",
     "output_type": "stream",
     "text": [
      "/home/lb732/Projects/memotion_analysis/.venv/lib/python3.6/site-packages/PIL/TiffImagePlugin.py:802: UserWarning: Corrupt EXIF data.  Expecting to read 2 bytes but only got 0. \n",
      "  warnings.warn(str(msg))\n",
      "/home/lb732/Projects/memotion_analysis/.venv/lib/python3.6/site-packages/PIL/Image.py:989: UserWarning: Palette images with Transparency expressed in bytes should be converted to RGBA images\n",
      "  \"Palette images with Transparency expressed in bytes should be \"\n"
     ]
    },
    {
     "name": "stdout",
     "output_type": "stream",
     "text": [
      "7000\n",
      "The following embeddings were removed ['chandler_Friday-Mood-AF.-meme-Friends-ChandlerBing.jpg']\n",
      "6999\n"
     ]
    }
   ],
   "source": [
    "img_embeddings_train = extract_all_images(\"xception\", \"data/train_images/\")\n",
    "img_embeddings_train = remove_unknown_images(\"data/train_cleaned_final.csv\", img_embeddings_train)\n",
    "save_as_pickle(img_embeddings_train, \"data/features/xception.pkl.train\")"
   ]
  },
  {
   "cell_type": "code",
   "execution_count": 3,
   "metadata": {},
   "outputs": [],
   "source": [
    "img_embeddings_train = load_pickle_file(\"data/features/xception.pkl.train\")"
   ]
  },
  {
   "cell_type": "code",
   "execution_count": 6,
   "metadata": {
    "pycharm": {
     "name": "#%%\n"
    }
   },
   "outputs": [
    {
     "name": "stdout",
     "output_type": "stream",
     "text": [
      "1000\n",
      "Nothing to remove\n",
      "1000\n"
     ]
    }
   ],
   "source": [
    "img_embeddings_dev = extract_all_images(\"xception\", \"data/dev_images/\")\n",
    "img_embeddings_dev = remove_unknown_images(\"data/dev_cleaned_final.csv\", img_embeddings_dev)\n",
    "save_as_pickle(img_embeddings_dev, \"data/features/xception.pkl.dev\")"
   ]
  },
  {
   "cell_type": "code",
   "execution_count": 4,
   "metadata": {},
   "outputs": [],
   "source": [
    "img_embeddings_dev = load_pickle_file(\"data/features/xception.pkl.dev\")"
   ]
  },
  {
   "cell_type": "code",
   "execution_count": 8,
   "metadata": {
    "pycharm": {
     "name": "#%%\n"
    }
   },
   "outputs": [
    {
     "name": "stdout",
     "output_type": "stream",
     "text": [
      "2000 embeddings\n",
      "The following embeddings were removed ['bethe_1231_012216115256.jpg', 'misog_99all-white-people-are-racist-all-men-are-misogynistic-and-all-cisgender-people-ar.jpg', 'obama_50_92427733_9096be2d-c723-4452-98a2-e965a5c0949d.jpg', 'decaprio_leonardo-dicaprio-at-age-19-and-age-39-25222232.png', 'sexist_so3hqchgzxylwrq4cgne.jpg', 'racis_110ynv296w1521.jpg', 'tech_no-technology-what.jpg', 'x_men_avengers-x-men-memes.jpg', 'bean_rj5dlqakfbh21.jpg', 'gene_163remembering-gene-gilda-today-would-have-been-the-great-24175552.png', 'harvey_this-is-why-I-drink.jpg', 'obama_267obama-islam-memes.jpg', 'avengers_sub-buzz-24672-1525675842-1.png', 'tech_Gerd-Leonhard-Bodies-are-no-longer-central-to-our-identity.jpg', 'hillary_573c620b8bc46.jpeg', 'feminist_51117048_622764668173027_784856690065111654_n.jpg', 'best_2018_sub-buzz-6084-1545177168-3.png', 'trump_screen-shot-2015-07-14-at-9-42-49-am.jpg', 'pepe_girls-he-has-to-be-6ft-tall-stable-job-drive-37896153.png', 'cat_U_372eXRC3as.png', 'putin_putin-memes-isis-.jpg', 'gf_699.png', 'bethe_140bm5WeEp.jpg', 'sexist_audaciousannromney.jpeg', 'harvey_7932466-6538053-image-a-5_1546099112558.jpg', 'gene_23d60.jpg', 'deadpool_these-deadpool-memes-are-just-the-thing-to-beat-your-monday-blues-652x400-5-1454935858.jpg', 'friends_58cbd6574122e.jpeg', 'godfather_4901198.jpg', 'gene_125image.jpg', 'tech_tumblr_pmtw96T9Xb1vgwfb6_540.jpg', 'modi_modi-is-not-only-a-surname-its-qualification-master-of-29063948.png', 'picard_cansa-canadian-cpt-picard-theyre-closing-in-on-us-what-47805059.png', 'tech_Have-You-Tried-Chewing-On-The-CableFunny-Technology-Meme-Image.jpg', 'obama_17573246646.jpg', 'sexist_harambesexist.jpg', 'minion_minion-friday-meme.jpg', 'sexist_sexism-isnt-funny-sexist-okescan-derunny-racism-isnt-runny-racist-19240603.png', 'feminist_Screen-Shot-2017-01-03-at-91042-AM.png', 'feminist_feminist-ryan-gosling.jpg', 'country_if-trump-gets-elected-im-leaving-the-country-like-and-6892670.png', 'avengers_the-attractive-heroes-avengers-meme.jpg', 'dr_evil_full.png', 'chandler_t-mobile-chandler-unique-25-best-2017-in-memes-stock-of-t-mobile-chandler.png', 'misog_259on-this-international-womens-day-i-dont-just-challenge-men-31421614.png', 'best_2018_47064388_452398568624898_2614284688141162778_n.jpg', 'sports_2064432_orig.jpg', 'hitler_therapist-anime-hitler-isnt-real-he-cant-hurt-you-anime-46231960.png', 'sexist_feminist-ryan-gosling.jpg', 'liam_thefacts-bible-liam-neeson-used-to-be-a-teacher-but-15401708.png', 'feminist_13344769_1645622382429626_211630213089208405_n.png', 'baby_169cb622de880d782123d8f0855f2366d77cd25503cb7796e1927a4067abf8b5.jpg', 'kim_Dotard-Memes-Kim-Jong-Un-Donald-Trump.png', 'deadpool_Feature-3.jpg', 'joker_joker-memes-jared-leto-.png', 'trump_Trump-Memes-Croatian-President-364x487.jpeg', 'sports_sports-memes-1-1000-ideas-about-on-pinterest-235x165.jpg', 'feminist_46836652_288828778436056_8585147520340549688_n.jpg', 'trump_37441496815890.jpg', 'big_bang_Sheldon-MEMES.jpg', 'feminist_feminist-memes-5.jpg', 'lor_will-stop-loving-lord-of-the-rings-themetapicturecon-but-itis-13045092.png', 'sports_Sports-Memes-2017.jpg', 'chandler_7ab3f5cca719a105cfe3ce32c864a539.jpg', 'seal_4252f2275815e624d32a991b386d32c85a051ab813da084df295351dab292b54.jpg', 'misog_184e7c9d170-3285-0133-4755-0a2ca390b447.jpg', 'decaprio_ti-a-cepa-leonardo-dicaprio-and-kate-winslet-helped-pay-4572811.png', 'titanic_83942799.jpg', 'cat_U_119Facebook-dbf9f6-1.png', 'x_men_46310340.jpg', 'gf_10ycx0.jpg', 'bean_11986342_794150310731756_2517415671126973037_n.png', 'spiderman_large.funny-spiderman-meme-pictures-12.jpg.d423223bc04041266222a0fdc9739d47.jpg', 'feminist_women-are-doinc-better-than-men-must-watch-radical-feminist-37867445.png', 'spiderman_spiderman-memes-1.jpg', 'chandler_b5b9fe75efd295bc3f3d61b36afa8577.jpg', 'country_when-the-whole-town-says-you-shouldve-used-red-but-30244116.png', 'feminist_C-K2SjsVoAAlkRP.jpg', 'trump_90e4065c1c9e7bad236e2f0d5642d89f.jpg', 'drunk_baby_tumblr_pahtj4VQxk1u2yyeko1_400.png', 'harry_tumblrn34kpcjdl11ttoxalo1400jpg.jpeg', 'trump_trumpmeme14.jpg', 'trump_trump-not-sure-melania-voting-5822551e5f9b58d5b1b00bd8.jpg', 'spector_when-people-you-dont-even-know-hate-you-thats-when-16461629.png', 'trump_37020249375_8b95f827a6_b.jpg', 'titanic_Top-Funniest-Titanic-Memes-5.jpeg', 'best_2017_740ef03335e5ff6977825fdc922eca1c.jpg', 'lor_the-lord-of-the-rings-trilogy-was-nominated-for-800-14402335.png', 'bethe_28af006a1855e0a9c0e5be58320be0dd73.jpg', 'third_12a341d472d69dd7e8955676affb5c73.png', 'trump_Trump-meme.jpg', 'titanic_dramatic-footage-of-titanic-sinking-1912-colorized-41894572.png', 'seal_stop-clubbing-baby-seals-once-again-punctuation-makes-all-the-14306187.png', 'country_eb42c1356b3d04e853366c147f1b146d--meme.jpg', 'titanic_name-your-ipod-titanic-meme.jpg', 'trump_image98.jpeg', 'barney_th.jpg', 'nemo_5c9a06a1c453e.jpeg', 'obama_145Obama-Meme-hey-im-obama-and-this-is-crazy.jpg', 'decaprio_leonardo-dicaprio-acted-in-film-named-before-the-flood-for-9404426.png', 'chandler_50903782_1215477875278148_1609916766932018963_n.jpg', 'trump_e0zlc92jp4q11.jpg', 'pepe_36984259_212675436059346_6107272044112510976_n.jpg', 'lor_sub-buzz-2732-1490723770-16.jpg', 'chandler_when-it-hasnt-been-your-day-your-week-your-month-18065879.png', 'sports_5c47d346ecf26.jpeg', 'tom_tom-and-jerry-memes-are-rising-right-now-invest-quickly-35039775.png', 'big_bang_9ae5d4a73034f314f44fb26e48c3d659--grammar-memes-bad-grammar.jpg', 'feminist_large_meme1.pngaa.png', 'sports_funny-nfl-memes-inspirational-54-best-sports-memes-images-on-pinterest-of-funny-nfl-memes.jpg', 'trump_3d548b4bd6c1651bd13ac48edb07eba7.jpg', 'tech_74344802e26985af5d12bf8955bcfdf1.jpg', 'bethe_259king-of-the-hill___keep_bill_away_from_peggy.jpg', 'mrbri_65Bad-Luck-Brian-Meme-12.jpg', 'harry_Dirty-Harry-Potter-Memes-8.jpg', 'liam_when-liam-asked-harry-to-show-his-best-smile-and-11036620.png', 'best_2017_meme-costumes-2017-marvelous-15-hilariously-inappropriate-memes-you-ll-feel-guilty-for-of-meme-costumes-2017.jpg', 'joker_CKEFVzpWcAEC6KW.jpg', 'pepe_this-is-the-trump-pepe-itappears-once-in-every-1-000-000-000-5086857.png', 'picard_the-difference-between-anarcho-communist-anarcho-capitalist-can-you-perceive-the-subtle-44166087.png', 'trump_trump-unarmed-draft-dodger.png', 'country_s-2902-if-a-country-doesnt-give-their-oil-to-usa-within-15-minutes-theyre-legally-allowed-to-invade.jpg']\n",
      "1878 embeddings remaining\n"
     ]
    }
   ],
   "source": [
    "img_embeddings_test = extract_all_images(\"xception\", \"data/test_images/\", \"data/features/xception.pkl.test\")\n",
    "img_embeddings_test = remove_unknown_images(\"data/test_cleaned_final.csv\", img_embeddings_test)\n",
    "save_as_pickle(img_embeddings_test, \"data/features/xception.pkl.test\")"
   ]
  },
  {
   "cell_type": "code",
   "execution_count": 5,
   "metadata": {},
   "outputs": [],
   "source": [
    "img_embeddings_test = load_pickle_file(\"data/features/xception.pkl.test\")"
   ]
  },
  {
   "cell_type": "markdown",
   "metadata": {},
   "source": [
    "## Sentences vectorisation\n",
    "Text of memes are vectorised using pretrained Universal sentence encoding <cite data-cite=\"cer2018\">(Cer et al., 2018)</cite>. The dataset of training is not specified nor open sourced by the authors. "
   ]
  },
  {
   "cell_type": "code",
   "execution_count": 10,
   "metadata": {
    "pycharm": {
     "name": "#%%\n"
    }
   },
   "outputs": [
    {
     "name": "stdout",
     "output_type": "stream",
     "text": [
      "/home/lb732/Projects/memotion_analysis/data/models/use\n",
      "6999\n"
     ]
    }
   ],
   "source": [
    "sent_embeddings_train = extract_all_sentences(\"data/train_cleaned_final.csv\", \"data/features/use.pkl.train\")\n",
    "print(len(sent_embeddings_train))"
   ]
  },
  {
   "cell_type": "code",
   "execution_count": 11,
   "metadata": {
    "pycharm": {
     "name": "#%%\n"
    }
   },
   "outputs": [
    {
     "name": "stdout",
     "output_type": "stream",
     "text": [
      "/home/lb732/Projects/memotion_analysis/data/models/use\n",
      "1000\n"
     ]
    }
   ],
   "source": [
    "sent_embeddings_dev = extract_all_sentences(\"data/dev_cleaned_final.csv\", \"data/features/use.pkl.dev\")\n",
    "print(len(sent_embeddings_dev))"
   ]
  },
  {
   "cell_type": "code",
   "execution_count": 6,
   "metadata": {
    "pycharm": {
     "name": "#%%\n"
    }
   },
   "outputs": [
    {
     "name": "stdout",
     "output_type": "stream",
     "text": [
      "/home/lb732/Projects/memotion_analysis/data/models/use\n",
      "1878\n"
     ]
    }
   ],
   "source": [
    "sent_embeddings_test = extract_all_sentences(\"data/test_cleaned_final.csv\", \"data/features/use.pkl.test\")\n",
    "print(len(sent_embeddings_test))"
   ]
  },
  {
   "cell_type": "raw",
   "metadata": {},
   "source": [
    "\\begin{thebibliography}{1}\n",
    "\n",
    "\\bibitem{chollet2017}\n",
    "Chollet, F., 2017. Xception: Deep learning with depthwise separable convolutions. In Proceedings of the IEEE conference on computer vision and pattern recognition (pp. 1251-1258).\n",
    "\n",
    "\\bibitem{deng2009}\n",
    "Deng, J., Dong, W., Socher, R., Li, L.J., Li, K. and Fei-Fei, L., 2009, June. Imagenet: A large-scale hierarchical image database. In 2009 IEEE conference on computer vision and pattern recognition (pp. 248-255). Ieee.\n",
    "\n",
    "\\bibitem{cer2018}\n",
    "Daniel Cer, Yinfei Yang, Sheng-yi Kong, Nan Hua, Nicole Limtiaco, Rhomni St. John, Noah Constant, Mario Guajardo-Céspedes, Steve Yuan, Chris Tar, Yun-Hsuan Sung, Brian Strope, Ray Kurzweil. Universal Sentence Encoder. arXiv:1803.11175, 2018.\n",
    "\n",
    "\\end{thebibliography}"
   ]
  },
  {
   "cell_type": "code",
   "execution_count": null,
   "metadata": {
    "pycharm": {
     "name": "#%%\n"
    }
   },
   "outputs": [],
   "source": []
  }
 ],
 "metadata": {
  "kernelspec": {
   "display_name": "Python 3",
   "language": "python",
   "name": "python3"
  },
  "language_info": {
   "codemirror_mode": {
    "name": "ipython",
    "version": 3
   },
   "file_extension": ".py",
   "mimetype": "text/x-python",
   "name": "python",
   "nbconvert_exporter": "python",
   "pygments_lexer": "ipython3",
   "version": "3.6.8"
  },
  "pycharm": {
   "stem_cell": {
    "cell_type": "raw",
    "metadata": {
     "collapsed": false
    },
    "source": []
   }
  }
 },
 "nbformat": 4,
 "nbformat_minor": 1
}
